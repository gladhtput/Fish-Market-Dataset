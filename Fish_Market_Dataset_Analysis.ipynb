{
  "nbformat": 4,
  "nbformat_minor": 0,
  "metadata": {
    "colab": {
      "name": "Fish Market Dataset Analysis.ipynb",
      "provenance": [],
      "mount_file_id": "1m8x5zCMtdb_bJgsKakAMVmMcmfW__3vA",
      "authorship_tag": "ABX9TyPmhzZT/Akw0iBS9LBmT1SY",
      "include_colab_link": true
    },
    "kernelspec": {
      "name": "python3",
      "display_name": "Python 3"
    },
    "language_info": {
      "name": "python"
    }
  },
  "cells": [
    {
      "cell_type": "markdown",
      "metadata": {
        "id": "view-in-github",
        "colab_type": "text"
      },
      "source": [
        "<a href=\"https://colab.research.google.com/github/gladhtput/Fish-Market-Dataset/blob/main/Fish_Market_Dataset_Analysis.ipynb\" target=\"_parent\"><img src=\"https://colab.research.google.com/assets/colab-badge.svg\" alt=\"Open In Colab\"/></a>"
      ]
    },
    {
      "cell_type": "markdown",
      "metadata": {
        "id": "NpgC0sB8jepM"
      },
      "source": [
        "# **Fish Market Dataset**\n",
        "\n",
        "source: https://www.kaggle.com/aungpyaeap/fish-market "
      ]
    },
    {
      "cell_type": "code",
      "metadata": {
        "colab": {
          "base_uri": "https://localhost:8080/"
        },
        "id": "gEE-WvuadlWS",
        "outputId": "096143f2-c5c7-4b90-92b3-b40f372a08d7"
      },
      "source": [
        "from google.colab import drive\n",
        "drive.mount('/content/drive')"
      ],
      "execution_count": 33,
      "outputs": [
        {
          "output_type": "stream",
          "name": "stdout",
          "text": [
            "Drive already mounted at /content/drive; to attempt to forcibly remount, call drive.mount(\"/content/drive\", force_remount=True).\n"
          ]
        }
      ]
    },
    {
      "cell_type": "markdown",
      "metadata": {
        "id": "51zv_xG7jCYq"
      },
      "source": [
        "## **Analisis General**"
      ]
    },
    {
      "cell_type": "code",
      "metadata": {
        "id": "4_9MHR74Y6tr"
      },
      "source": [
        "import pandas as pd\n",
        "import numpy as np\n",
        "import seaborn as sns\n",
        "import matplotlib.pyplot as plt"
      ],
      "execution_count": 34,
      "outputs": []
    },
    {
      "cell_type": "code",
      "metadata": {
        "colab": {
          "base_uri": "https://localhost:8080/",
          "height": 419
        },
        "id": "d9HUh4gsKRdp",
        "outputId": "2cff6fc2-f5e4-4fa0-ed25-7cbb09694fed"
      },
      "source": [
        "df = pd.read_csv(\"/content/drive/MyDrive/Fish.csv\", sep=\",\")\n",
        "df.columns = ['species', 'weight','vertical_length','diagonal_length','cross_length','height','width']\n",
        "df"
      ],
      "execution_count": 35,
      "outputs": [
        {
          "output_type": "execute_result",
          "data": {
            "text/html": [
              "<div>\n",
              "<style scoped>\n",
              "    .dataframe tbody tr th:only-of-type {\n",
              "        vertical-align: middle;\n",
              "    }\n",
              "\n",
              "    .dataframe tbody tr th {\n",
              "        vertical-align: top;\n",
              "    }\n",
              "\n",
              "    .dataframe thead th {\n",
              "        text-align: right;\n",
              "    }\n",
              "</style>\n",
              "<table border=\"1\" class=\"dataframe\">\n",
              "  <thead>\n",
              "    <tr style=\"text-align: right;\">\n",
              "      <th></th>\n",
              "      <th>species</th>\n",
              "      <th>weight</th>\n",
              "      <th>vertical_length</th>\n",
              "      <th>diagonal_length</th>\n",
              "      <th>cross_length</th>\n",
              "      <th>height</th>\n",
              "      <th>width</th>\n",
              "    </tr>\n",
              "  </thead>\n",
              "  <tbody>\n",
              "    <tr>\n",
              "      <th>0</th>\n",
              "      <td>Bream</td>\n",
              "      <td>242.0</td>\n",
              "      <td>23.2</td>\n",
              "      <td>25.4</td>\n",
              "      <td>30.0</td>\n",
              "      <td>11.5200</td>\n",
              "      <td>4.0200</td>\n",
              "    </tr>\n",
              "    <tr>\n",
              "      <th>1</th>\n",
              "      <td>Bream</td>\n",
              "      <td>290.0</td>\n",
              "      <td>24.0</td>\n",
              "      <td>26.3</td>\n",
              "      <td>31.2</td>\n",
              "      <td>12.4800</td>\n",
              "      <td>4.3056</td>\n",
              "    </tr>\n",
              "    <tr>\n",
              "      <th>2</th>\n",
              "      <td>Bream</td>\n",
              "      <td>340.0</td>\n",
              "      <td>23.9</td>\n",
              "      <td>26.5</td>\n",
              "      <td>31.1</td>\n",
              "      <td>12.3778</td>\n",
              "      <td>4.6961</td>\n",
              "    </tr>\n",
              "    <tr>\n",
              "      <th>3</th>\n",
              "      <td>Bream</td>\n",
              "      <td>363.0</td>\n",
              "      <td>26.3</td>\n",
              "      <td>29.0</td>\n",
              "      <td>33.5</td>\n",
              "      <td>12.7300</td>\n",
              "      <td>4.4555</td>\n",
              "    </tr>\n",
              "    <tr>\n",
              "      <th>4</th>\n",
              "      <td>Bream</td>\n",
              "      <td>430.0</td>\n",
              "      <td>26.5</td>\n",
              "      <td>29.0</td>\n",
              "      <td>34.0</td>\n",
              "      <td>12.4440</td>\n",
              "      <td>5.1340</td>\n",
              "    </tr>\n",
              "    <tr>\n",
              "      <th>...</th>\n",
              "      <td>...</td>\n",
              "      <td>...</td>\n",
              "      <td>...</td>\n",
              "      <td>...</td>\n",
              "      <td>...</td>\n",
              "      <td>...</td>\n",
              "      <td>...</td>\n",
              "    </tr>\n",
              "    <tr>\n",
              "      <th>154</th>\n",
              "      <td>Smelt</td>\n",
              "      <td>12.2</td>\n",
              "      <td>11.5</td>\n",
              "      <td>12.2</td>\n",
              "      <td>13.4</td>\n",
              "      <td>2.0904</td>\n",
              "      <td>1.3936</td>\n",
              "    </tr>\n",
              "    <tr>\n",
              "      <th>155</th>\n",
              "      <td>Smelt</td>\n",
              "      <td>13.4</td>\n",
              "      <td>11.7</td>\n",
              "      <td>12.4</td>\n",
              "      <td>13.5</td>\n",
              "      <td>2.4300</td>\n",
              "      <td>1.2690</td>\n",
              "    </tr>\n",
              "    <tr>\n",
              "      <th>156</th>\n",
              "      <td>Smelt</td>\n",
              "      <td>12.2</td>\n",
              "      <td>12.1</td>\n",
              "      <td>13.0</td>\n",
              "      <td>13.8</td>\n",
              "      <td>2.2770</td>\n",
              "      <td>1.2558</td>\n",
              "    </tr>\n",
              "    <tr>\n",
              "      <th>157</th>\n",
              "      <td>Smelt</td>\n",
              "      <td>19.7</td>\n",
              "      <td>13.2</td>\n",
              "      <td>14.3</td>\n",
              "      <td>15.2</td>\n",
              "      <td>2.8728</td>\n",
              "      <td>2.0672</td>\n",
              "    </tr>\n",
              "    <tr>\n",
              "      <th>158</th>\n",
              "      <td>Smelt</td>\n",
              "      <td>19.9</td>\n",
              "      <td>13.8</td>\n",
              "      <td>15.0</td>\n",
              "      <td>16.2</td>\n",
              "      <td>2.9322</td>\n",
              "      <td>1.8792</td>\n",
              "    </tr>\n",
              "  </tbody>\n",
              "</table>\n",
              "<p>159 rows × 7 columns</p>\n",
              "</div>"
            ],
            "text/plain": [
              "    species  weight  vertical_length  ...  cross_length   height   width\n",
              "0     Bream   242.0             23.2  ...          30.0  11.5200  4.0200\n",
              "1     Bream   290.0             24.0  ...          31.2  12.4800  4.3056\n",
              "2     Bream   340.0             23.9  ...          31.1  12.3778  4.6961\n",
              "3     Bream   363.0             26.3  ...          33.5  12.7300  4.4555\n",
              "4     Bream   430.0             26.5  ...          34.0  12.4440  5.1340\n",
              "..      ...     ...              ...  ...           ...      ...     ...\n",
              "154   Smelt    12.2             11.5  ...          13.4   2.0904  1.3936\n",
              "155   Smelt    13.4             11.7  ...          13.5   2.4300  1.2690\n",
              "156   Smelt    12.2             12.1  ...          13.8   2.2770  1.2558\n",
              "157   Smelt    19.7             13.2  ...          15.2   2.8728  2.0672\n",
              "158   Smelt    19.9             13.8  ...          16.2   2.9322  1.8792\n",
              "\n",
              "[159 rows x 7 columns]"
            ]
          },
          "metadata": {},
          "execution_count": 35
        }
      ]
    },
    {
      "cell_type": "code",
      "metadata": {
        "colab": {
          "base_uri": "https://localhost:8080/"
        },
        "id": "jG0OlUfykp9h",
        "outputId": "beb5d8da-fd8e-430d-a822-1d0db0c6ff13"
      },
      "source": [
        "df.info()"
      ],
      "execution_count": 36,
      "outputs": [
        {
          "output_type": "stream",
          "name": "stdout",
          "text": [
            "<class 'pandas.core.frame.DataFrame'>\n",
            "RangeIndex: 159 entries, 0 to 158\n",
            "Data columns (total 7 columns):\n",
            " #   Column           Non-Null Count  Dtype  \n",
            "---  ------           --------------  -----  \n",
            " 0   species          159 non-null    object \n",
            " 1   weight           159 non-null    float64\n",
            " 2   vertical_length  159 non-null    float64\n",
            " 3   diagonal_length  159 non-null    float64\n",
            " 4   cross_length     159 non-null    float64\n",
            " 5   height           159 non-null    float64\n",
            " 6   width            159 non-null    float64\n",
            "dtypes: float64(6), object(1)\n",
            "memory usage: 8.8+ KB\n"
          ]
        }
      ]
    },
    {
      "cell_type": "code",
      "metadata": {
        "colab": {
          "base_uri": "https://localhost:8080/",
          "height": 297
        },
        "id": "-trBixPnX8cy",
        "outputId": "7d8c2161-e224-45fe-f23b-06c72c9cddd6"
      },
      "source": [
        "df.describe()"
      ],
      "execution_count": 37,
      "outputs": [
        {
          "output_type": "execute_result",
          "data": {
            "text/html": [
              "<div>\n",
              "<style scoped>\n",
              "    .dataframe tbody tr th:only-of-type {\n",
              "        vertical-align: middle;\n",
              "    }\n",
              "\n",
              "    .dataframe tbody tr th {\n",
              "        vertical-align: top;\n",
              "    }\n",
              "\n",
              "    .dataframe thead th {\n",
              "        text-align: right;\n",
              "    }\n",
              "</style>\n",
              "<table border=\"1\" class=\"dataframe\">\n",
              "  <thead>\n",
              "    <tr style=\"text-align: right;\">\n",
              "      <th></th>\n",
              "      <th>weight</th>\n",
              "      <th>vertical_length</th>\n",
              "      <th>diagonal_length</th>\n",
              "      <th>cross_length</th>\n",
              "      <th>height</th>\n",
              "      <th>width</th>\n",
              "    </tr>\n",
              "  </thead>\n",
              "  <tbody>\n",
              "    <tr>\n",
              "      <th>count</th>\n",
              "      <td>159.000000</td>\n",
              "      <td>159.000000</td>\n",
              "      <td>159.000000</td>\n",
              "      <td>159.000000</td>\n",
              "      <td>159.000000</td>\n",
              "      <td>159.000000</td>\n",
              "    </tr>\n",
              "    <tr>\n",
              "      <th>mean</th>\n",
              "      <td>398.326415</td>\n",
              "      <td>26.247170</td>\n",
              "      <td>28.415723</td>\n",
              "      <td>31.227044</td>\n",
              "      <td>8.970994</td>\n",
              "      <td>4.417486</td>\n",
              "    </tr>\n",
              "    <tr>\n",
              "      <th>std</th>\n",
              "      <td>357.978317</td>\n",
              "      <td>9.996441</td>\n",
              "      <td>10.716328</td>\n",
              "      <td>11.610246</td>\n",
              "      <td>4.286208</td>\n",
              "      <td>1.685804</td>\n",
              "    </tr>\n",
              "    <tr>\n",
              "      <th>min</th>\n",
              "      <td>0.000000</td>\n",
              "      <td>7.500000</td>\n",
              "      <td>8.400000</td>\n",
              "      <td>8.800000</td>\n",
              "      <td>1.728400</td>\n",
              "      <td>1.047600</td>\n",
              "    </tr>\n",
              "    <tr>\n",
              "      <th>25%</th>\n",
              "      <td>120.000000</td>\n",
              "      <td>19.050000</td>\n",
              "      <td>21.000000</td>\n",
              "      <td>23.150000</td>\n",
              "      <td>5.944800</td>\n",
              "      <td>3.385650</td>\n",
              "    </tr>\n",
              "    <tr>\n",
              "      <th>50%</th>\n",
              "      <td>273.000000</td>\n",
              "      <td>25.200000</td>\n",
              "      <td>27.300000</td>\n",
              "      <td>29.400000</td>\n",
              "      <td>7.786000</td>\n",
              "      <td>4.248500</td>\n",
              "    </tr>\n",
              "    <tr>\n",
              "      <th>75%</th>\n",
              "      <td>650.000000</td>\n",
              "      <td>32.700000</td>\n",
              "      <td>35.500000</td>\n",
              "      <td>39.650000</td>\n",
              "      <td>12.365900</td>\n",
              "      <td>5.584500</td>\n",
              "    </tr>\n",
              "    <tr>\n",
              "      <th>max</th>\n",
              "      <td>1650.000000</td>\n",
              "      <td>59.000000</td>\n",
              "      <td>63.400000</td>\n",
              "      <td>68.000000</td>\n",
              "      <td>18.957000</td>\n",
              "      <td>8.142000</td>\n",
              "    </tr>\n",
              "  </tbody>\n",
              "</table>\n",
              "</div>"
            ],
            "text/plain": [
              "            weight  vertical_length  ...      height       width\n",
              "count   159.000000       159.000000  ...  159.000000  159.000000\n",
              "mean    398.326415        26.247170  ...    8.970994    4.417486\n",
              "std     357.978317         9.996441  ...    4.286208    1.685804\n",
              "min       0.000000         7.500000  ...    1.728400    1.047600\n",
              "25%     120.000000        19.050000  ...    5.944800    3.385650\n",
              "50%     273.000000        25.200000  ...    7.786000    4.248500\n",
              "75%     650.000000        32.700000  ...   12.365900    5.584500\n",
              "max    1650.000000        59.000000  ...   18.957000    8.142000\n",
              "\n",
              "[8 rows x 6 columns]"
            ]
          },
          "metadata": {},
          "execution_count": 37
        }
      ]
    },
    {
      "cell_type": "code",
      "metadata": {
        "colab": {
          "base_uri": "https://localhost:8080/",
          "height": 235
        },
        "id": "JKQ-2uxqM1Mi",
        "outputId": "52ead8e0-8dc2-42ca-c9d2-2a8bd554e62a"
      },
      "source": [
        "corr = df.corr(method='pearson')\n",
        "corr"
      ],
      "execution_count": 38,
      "outputs": [
        {
          "output_type": "execute_result",
          "data": {
            "text/html": [
              "<div>\n",
              "<style scoped>\n",
              "    .dataframe tbody tr th:only-of-type {\n",
              "        vertical-align: middle;\n",
              "    }\n",
              "\n",
              "    .dataframe tbody tr th {\n",
              "        vertical-align: top;\n",
              "    }\n",
              "\n",
              "    .dataframe thead th {\n",
              "        text-align: right;\n",
              "    }\n",
              "</style>\n",
              "<table border=\"1\" class=\"dataframe\">\n",
              "  <thead>\n",
              "    <tr style=\"text-align: right;\">\n",
              "      <th></th>\n",
              "      <th>weight</th>\n",
              "      <th>vertical_length</th>\n",
              "      <th>diagonal_length</th>\n",
              "      <th>cross_length</th>\n",
              "      <th>height</th>\n",
              "      <th>width</th>\n",
              "    </tr>\n",
              "  </thead>\n",
              "  <tbody>\n",
              "    <tr>\n",
              "      <th>weight</th>\n",
              "      <td>1.000000</td>\n",
              "      <td>0.915712</td>\n",
              "      <td>0.918618</td>\n",
              "      <td>0.923044</td>\n",
              "      <td>0.724345</td>\n",
              "      <td>0.886507</td>\n",
              "    </tr>\n",
              "    <tr>\n",
              "      <th>vertical_length</th>\n",
              "      <td>0.915712</td>\n",
              "      <td>1.000000</td>\n",
              "      <td>0.999517</td>\n",
              "      <td>0.992031</td>\n",
              "      <td>0.625378</td>\n",
              "      <td>0.867050</td>\n",
              "    </tr>\n",
              "    <tr>\n",
              "      <th>diagonal_length</th>\n",
              "      <td>0.918618</td>\n",
              "      <td>0.999517</td>\n",
              "      <td>1.000000</td>\n",
              "      <td>0.994103</td>\n",
              "      <td>0.640441</td>\n",
              "      <td>0.873547</td>\n",
              "    </tr>\n",
              "    <tr>\n",
              "      <th>cross_length</th>\n",
              "      <td>0.923044</td>\n",
              "      <td>0.992031</td>\n",
              "      <td>0.994103</td>\n",
              "      <td>1.000000</td>\n",
              "      <td>0.703409</td>\n",
              "      <td>0.878520</td>\n",
              "    </tr>\n",
              "    <tr>\n",
              "      <th>height</th>\n",
              "      <td>0.724345</td>\n",
              "      <td>0.625378</td>\n",
              "      <td>0.640441</td>\n",
              "      <td>0.703409</td>\n",
              "      <td>1.000000</td>\n",
              "      <td>0.792881</td>\n",
              "    </tr>\n",
              "    <tr>\n",
              "      <th>width</th>\n",
              "      <td>0.886507</td>\n",
              "      <td>0.867050</td>\n",
              "      <td>0.873547</td>\n",
              "      <td>0.878520</td>\n",
              "      <td>0.792881</td>\n",
              "      <td>1.000000</td>\n",
              "    </tr>\n",
              "  </tbody>\n",
              "</table>\n",
              "</div>"
            ],
            "text/plain": [
              "                   weight  vertical_length  ...    height     width\n",
              "weight           1.000000         0.915712  ...  0.724345  0.886507\n",
              "vertical_length  0.915712         1.000000  ...  0.625378  0.867050\n",
              "diagonal_length  0.918618         0.999517  ...  0.640441  0.873547\n",
              "cross_length     0.923044         0.992031  ...  0.703409  0.878520\n",
              "height           0.724345         0.625378  ...  1.000000  0.792881\n",
              "width            0.886507         0.867050  ...  0.792881  1.000000\n",
              "\n",
              "[6 rows x 6 columns]"
            ]
          },
          "metadata": {},
          "execution_count": 38
        }
      ]
    },
    {
      "cell_type": "code",
      "metadata": {
        "colab": {
          "base_uri": "https://localhost:8080/",
          "height": 356
        },
        "id": "OLrnw2oVTDON",
        "outputId": "37e630bf-4b0a-4f34-dbea-823be14d8f99"
      },
      "source": [
        "sns.heatmap(corr, xticklabels = corr.columns.values, yticklabels=corr.columns.values)"
      ],
      "execution_count": 39,
      "outputs": [
        {
          "output_type": "execute_result",
          "data": {
            "text/plain": [
              "<matplotlib.axes._subplots.AxesSubplot at 0x7efdbc0f5910>"
            ]
          },
          "metadata": {},
          "execution_count": 39
        },
        {
          "output_type": "display_data",
          "data": {
            "image/png": "[encoded data removed]",
            "text/plain": [
              "<Figure size 432x288 with 2 Axes>"
            ]
          },
          "metadata": {
            "needs_background": "light"
          }
        }
      ]
    },
    {
      "cell_type": "code",
      "metadata": {
        "colab": {
          "base_uri": "https://localhost:8080/",
          "height": 607
        },
        "id": "8DTSlGwur-PI",
        "outputId": "b9085582-21c5-42a0-c343-b6045c4d7416"
      },
      "source": [
        "fig, axs = plt.subplots(2, 3, figsize=(15, 10))\n",
        "\n",
        "axs[0, 0].hist(df['weight'])\n",
        "axs[0, 0].set_title('Weight')\n",
        "\n",
        "axs[0, 1].hist(df['vertical_length'])\n",
        "axs[0, 1].set_title('Vertical Length')\n",
        "\n",
        "axs[0, 2].hist(df['diagonal_length'])\n",
        "axs[0, 2].set_title('Diagonal Length')\n",
        "\n",
        "axs[1, 0].hist(df['cross_length'])\n",
        "axs[1, 0].set_title('Cross Length')\n",
        "\n",
        "axs[1, 1].hist(df['height'])\n",
        "axs[1, 1].set_title('Height')\n",
        "\n",
        "axs[1, 2].hist(df['width'])\n",
        "axs[1, 2].set_title('Width')\n",
        "\n",
        "plt.show()"
      ],
      "execution_count": 40,
      "outputs": [
        {
          "output_type": "display_data",
          "data": {
            "image/png": "[encoded data removed]",
            "text/plain": [
              "<Figure size 1080x720 with 6 Axes>"
            ]
          },
          "metadata": {
            "needs_background": "light"
          }
        }
      ]
    },
    {
      "cell_type": "markdown",
      "metadata": {
        "id": "Zg-34H8PjXtk"
      },
      "source": [
        "## **Analisis Spesifik**"
      ]
    },
    {
      "cell_type": "code",
      "metadata": {
        "colab": {
          "base_uri": "https://localhost:8080/"
        },
        "id": "FlHH3KnlTum5",
        "outputId": "60bb0c58-d06b-4e64-8be8-73eeddc22a1b"
      },
      "source": [
        "values, counts = np.unique(df[\"species\"], return_counts=True)\n",
        "print(values)\n",
        "print(counts)"
      ],
      "execution_count": 41,
      "outputs": [
        {
          "output_type": "stream",
          "name": "stdout",
          "text": [
            "['Bream' 'Parkki' 'Perch' 'Pike' 'Roach' 'Smelt' 'Whitefish']\n",
            "[35 11 56 17 20 14  6]\n"
          ]
        }
      ]
    },
    {
      "cell_type": "code",
      "metadata": {
        "id": "ArmwW5RhnrFW"
      },
      "source": [
        "df_bream = df[(df == 'Bream').any(axis=1)]\n",
        "df_parkki = df[(df == 'Parkki').any(axis=1)]\n",
        "df_perch = df[(df == 'Perch').any(axis=1)]\n",
        "df_pike = df[(df == 'Pike').any(axis=1)]\n",
        "df_roach = df[(df == 'Roach').any(axis=1)]\n",
        "df_smelt = df[(df == 'Smelt').any(axis=1)]\n",
        "df_whitefish = df[(df == 'Whitefish').any(axis=1)]"
      ],
      "execution_count": 42,
      "outputs": []
    },
    {
      "cell_type": "markdown",
      "metadata": {
        "id": "3W9o2SbCjek-"
      },
      "source": [
        "### Bream"
      ]
    },
    {
      "cell_type": "code",
      "metadata": {
        "colab": {
          "base_uri": "https://localhost:8080/",
          "height": 297
        },
        "id": "of0JCmcRkTX_",
        "outputId": "c5c3e4a0-3d53-4fd9-ce74-a0a8dd9d292e"
      },
      "source": [
        "df_bream.describe()"
      ],
      "execution_count": 43,
      "outputs": [
        {
          "output_type": "execute_result",
          "data": {
            "text/html": [
              "<div>\n",
              "<style scoped>\n",
              "    .dataframe tbody tr th:only-of-type {\n",
              "        vertical-align: middle;\n",
              "    }\n",
              "\n",
              "    .dataframe tbody tr th {\n",
              "        vertical-align: top;\n",
              "    }\n",
              "\n",
              "    .dataframe thead th {\n",
              "        text-align: right;\n",
              "    }\n",
              "</style>\n",
              "<table border=\"1\" class=\"dataframe\">\n",
              "  <thead>\n",
              "    <tr style=\"text-align: right;\">\n",
              "      <th></th>\n",
              "      <th>weight</th>\n",
              "      <th>vertical_length</th>\n",
              "      <th>diagonal_length</th>\n",
              "      <th>cross_length</th>\n",
              "      <th>height</th>\n",
              "      <th>width</th>\n",
              "    </tr>\n",
              "  </thead>\n",
              "  <tbody>\n",
              "    <tr>\n",
              "      <th>count</th>\n",
              "      <td>35.000000</td>\n",
              "      <td>35.000000</td>\n",
              "      <td>35.000000</td>\n",
              "      <td>35.000000</td>\n",
              "      <td>35.000000</td>\n",
              "      <td>35.000000</td>\n",
              "    </tr>\n",
              "    <tr>\n",
              "      <th>mean</th>\n",
              "      <td>617.828571</td>\n",
              "      <td>30.305714</td>\n",
              "      <td>33.108571</td>\n",
              "      <td>38.354286</td>\n",
              "      <td>15.183211</td>\n",
              "      <td>5.427614</td>\n",
              "    </tr>\n",
              "    <tr>\n",
              "      <th>std</th>\n",
              "      <td>209.205709</td>\n",
              "      <td>3.593699</td>\n",
              "      <td>3.911925</td>\n",
              "      <td>4.157866</td>\n",
              "      <td>1.964707</td>\n",
              "      <td>0.721509</td>\n",
              "    </tr>\n",
              "    <tr>\n",
              "      <th>min</th>\n",
              "      <td>242.000000</td>\n",
              "      <td>23.200000</td>\n",
              "      <td>25.400000</td>\n",
              "      <td>30.000000</td>\n",
              "      <td>11.520000</td>\n",
              "      <td>4.020000</td>\n",
              "    </tr>\n",
              "    <tr>\n",
              "      <th>25%</th>\n",
              "      <td>462.500000</td>\n",
              "      <td>28.000000</td>\n",
              "      <td>30.350000</td>\n",
              "      <td>35.650000</td>\n",
              "      <td>13.958900</td>\n",
              "      <td>4.943400</td>\n",
              "    </tr>\n",
              "    <tr>\n",
              "      <th>50%</th>\n",
              "      <td>610.000000</td>\n",
              "      <td>30.400000</td>\n",
              "      <td>33.000000</td>\n",
              "      <td>38.500000</td>\n",
              "      <td>14.954400</td>\n",
              "      <td>5.280100</td>\n",
              "    </tr>\n",
              "    <tr>\n",
              "      <th>75%</th>\n",
              "      <td>717.000000</td>\n",
              "      <td>31.950000</td>\n",
              "      <td>35.000000</td>\n",
              "      <td>40.750000</td>\n",
              "      <td>16.360900</td>\n",
              "      <td>6.071600</td>\n",
              "    </tr>\n",
              "    <tr>\n",
              "      <th>max</th>\n",
              "      <td>1000.000000</td>\n",
              "      <td>38.000000</td>\n",
              "      <td>41.000000</td>\n",
              "      <td>46.500000</td>\n",
              "      <td>18.957000</td>\n",
              "      <td>6.749700</td>\n",
              "    </tr>\n",
              "  </tbody>\n",
              "</table>\n",
              "</div>"
            ],
            "text/plain": [
              "            weight  vertical_length  ...     height      width\n",
              "count    35.000000        35.000000  ...  35.000000  35.000000\n",
              "mean    617.828571        30.305714  ...  15.183211   5.427614\n",
              "std     209.205709         3.593699  ...   1.964707   0.721509\n",
              "min     242.000000        23.200000  ...  11.520000   4.020000\n",
              "25%     462.500000        28.000000  ...  13.958900   4.943400\n",
              "50%     610.000000        30.400000  ...  14.954400   5.280100\n",
              "75%     717.000000        31.950000  ...  16.360900   6.071600\n",
              "max    1000.000000        38.000000  ...  18.957000   6.749700\n",
              "\n",
              "[8 rows x 6 columns]"
            ]
          },
          "metadata": {},
          "execution_count": 43
        }
      ]
    },
    {
      "cell_type": "code",
      "metadata": {
        "colab": {
          "base_uri": "https://localhost:8080/",
          "height": 235
        },
        "id": "-sis6LTaiIKh",
        "outputId": "7ecfa79e-2574-46f9-cebe-c7eaad44a7c3"
      },
      "source": [
        "corr_bream = df_bream.corr(method='pearson')\n",
        "corr_bream"
      ],
      "execution_count": 44,
      "outputs": [
        {
          "output_type": "execute_result",
          "data": {
            "text/html": [
              "<div>\n",
              "<style scoped>\n",
              "    .dataframe tbody tr th:only-of-type {\n",
              "        vertical-align: middle;\n",
              "    }\n",
              "\n",
              "    .dataframe tbody tr th {\n",
              "        vertical-align: top;\n",
              "    }\n",
              "\n",
              "    .dataframe thead th {\n",
              "        text-align: right;\n",
              "    }\n",
              "</style>\n",
              "<table border=\"1\" class=\"dataframe\">\n",
              "  <thead>\n",
              "    <tr style=\"text-align: right;\">\n",
              "      <th></th>\n",
              "      <th>weight</th>\n",
              "      <th>vertical_length</th>\n",
              "      <th>diagonal_length</th>\n",
              "      <th>cross_length</th>\n",
              "      <th>height</th>\n",
              "      <th>width</th>\n",
              "    </tr>\n",
              "  </thead>\n",
              "  <tbody>\n",
              "    <tr>\n",
              "      <th>weight</th>\n",
              "      <td>1.000000</td>\n",
              "      <td>0.937050</td>\n",
              "      <td>0.946256</td>\n",
              "      <td>0.947136</td>\n",
              "      <td>0.964528</td>\n",
              "      <td>0.925303</td>\n",
              "    </tr>\n",
              "    <tr>\n",
              "      <th>vertical_length</th>\n",
              "      <td>0.937050</td>\n",
              "      <td>1.000000</td>\n",
              "      <td>0.997713</td>\n",
              "      <td>0.996353</td>\n",
              "      <td>0.939384</td>\n",
              "      <td>0.899298</td>\n",
              "    </tr>\n",
              "    <tr>\n",
              "      <th>diagonal_length</th>\n",
              "      <td>0.946256</td>\n",
              "      <td>0.997713</td>\n",
              "      <td>1.000000</td>\n",
              "      <td>0.998237</td>\n",
              "      <td>0.950391</td>\n",
              "      <td>0.915717</td>\n",
              "    </tr>\n",
              "    <tr>\n",
              "      <th>cross_length</th>\n",
              "      <td>0.947136</td>\n",
              "      <td>0.996353</td>\n",
              "      <td>0.998237</td>\n",
              "      <td>1.000000</td>\n",
              "      <td>0.952900</td>\n",
              "      <td>0.921206</td>\n",
              "    </tr>\n",
              "    <tr>\n",
              "      <th>height</th>\n",
              "      <td>0.964528</td>\n",
              "      <td>0.939384</td>\n",
              "      <td>0.950391</td>\n",
              "      <td>0.952900</td>\n",
              "      <td>1.000000</td>\n",
              "      <td>0.926692</td>\n",
              "    </tr>\n",
              "    <tr>\n",
              "      <th>width</th>\n",
              "      <td>0.925303</td>\n",
              "      <td>0.899298</td>\n",
              "      <td>0.915717</td>\n",
              "      <td>0.921206</td>\n",
              "      <td>0.926692</td>\n",
              "      <td>1.000000</td>\n",
              "    </tr>\n",
              "  </tbody>\n",
              "</table>\n",
              "</div>"
            ],
            "text/plain": [
              "                   weight  vertical_length  ...    height     width\n",
              "weight           1.000000         0.937050  ...  0.964528  0.925303\n",
              "vertical_length  0.937050         1.000000  ...  0.939384  0.899298\n",
              "diagonal_length  0.946256         0.997713  ...  0.950391  0.915717\n",
              "cross_length     0.947136         0.996353  ...  0.952900  0.921206\n",
              "height           0.964528         0.939384  ...  1.000000  0.926692\n",
              "width            0.925303         0.899298  ...  0.926692  1.000000\n",
              "\n",
              "[6 rows x 6 columns]"
            ]
          },
          "metadata": {},
          "execution_count": 44
        }
      ]
    },
    {
      "cell_type": "code",
      "metadata": {
        "colab": {
          "base_uri": "https://localhost:8080/",
          "height": 356
        },
        "id": "71i2o2VPiqrR",
        "outputId": "af19a286-0b79-4337-a913-86f2277b3fd2"
      },
      "source": [
        "sns.heatmap(corr_bream, xticklabels = corr_bream.columns.values, yticklabels=corr_bream.columns.values)"
      ],
      "execution_count": 45,
      "outputs": [
        {
          "output_type": "execute_result",
          "data": {
            "text/plain": [
              "<matplotlib.axes._subplots.AxesSubplot at 0x7efdbcb00190>"
            ]
          },
          "metadata": {},
          "execution_count": 45
        },
        {
          "output_type": "display_data",
          "data": {
            "image/png": "[encoded data removed]",
            "text/plain": [
              "<Figure size 432x288 with 2 Axes>"
            ]
          },
          "metadata": {
            "needs_background": "light"
          }
        }
      ]
    },
    {
      "cell_type": "code",
      "metadata": {
        "colab": {
          "base_uri": "https://localhost:8080/",
          "height": 607
        },
        "id": "6qePtZq5oR-c",
        "outputId": "865febfd-3ab6-4701-94c3-4d2fcd41b5bf"
      },
      "source": [
        "fig, axs = plt.subplots(2, 3, figsize=(15, 10))\n",
        "\n",
        "axs[0, 0].hist(df_bream['weight'])\n",
        "axs[0, 0].set_title('Weight')\n",
        "\n",
        "axs[0, 1].hist(df_bream['vertical_length'])\n",
        "axs[0, 1].set_title('Vertical Length')\n",
        "\n",
        "axs[0, 2].hist(df_bream['diagonal_length'])\n",
        "axs[0, 2].set_title('Diagonal Length')\n",
        "\n",
        "axs[1, 0].hist(df_bream['cross_length'])\n",
        "axs[1, 0].set_title('Cross Length')\n",
        "\n",
        "axs[1, 1].hist(df_bream['height'])\n",
        "axs[1, 1].set_title('Height')\n",
        "\n",
        "axs[1, 2].hist(df_bream['width'])\n",
        "axs[1, 2].set_title('Width')\n",
        "\n",
        "plt.show()"
      ],
      "execution_count": 46,
      "outputs": [
        {
          "output_type": "display_data",
          "data": {
            "image/png": "[encoded data removed]",
            "text/plain": [
              "<Figure size 1080x720 with 6 Axes>"
            ]
          },
          "metadata": {
            "needs_background": "light"
          }
        }
      ]
    },
    {
      "cell_type": "markdown",
      "metadata": {
        "id": "DxMc7el7jtbX"
      },
      "source": [
        "### Parkki"
      ]
    },
    {
      "cell_type": "code",
      "metadata": {
        "colab": {
          "base_uri": "https://localhost:8080/",
          "height": 297
        },
        "id": "J2nwZonqk3eh",
        "outputId": "6b2b5c41-4d4e-473c-afa2-0688e0af8eca"
      },
      "source": [
        "df_parkki.describe()"
      ],
      "execution_count": 47,
      "outputs": [
        {
          "output_type": "execute_result",
          "data": {
            "text/html": [
              "<div>\n",
              "<style scoped>\n",
              "    .dataframe tbody tr th:only-of-type {\n",
              "        vertical-align: middle;\n",
              "    }\n",
              "\n",
              "    .dataframe tbody tr th {\n",
              "        vertical-align: top;\n",
              "    }\n",
              "\n",
              "    .dataframe thead th {\n",
              "        text-align: right;\n",
              "    }\n",
              "</style>\n",
              "<table border=\"1\" class=\"dataframe\">\n",
              "  <thead>\n",
              "    <tr style=\"text-align: right;\">\n",
              "      <th></th>\n",
              "      <th>weight</th>\n",
              "      <th>vertical_length</th>\n",
              "      <th>diagonal_length</th>\n",
              "      <th>cross_length</th>\n",
              "      <th>height</th>\n",
              "      <th>width</th>\n",
              "    </tr>\n",
              "  </thead>\n",
              "  <tbody>\n",
              "    <tr>\n",
              "      <th>count</th>\n",
              "      <td>11.000000</td>\n",
              "      <td>11.000000</td>\n",
              "      <td>11.000000</td>\n",
              "      <td>11.000000</td>\n",
              "      <td>11.000000</td>\n",
              "      <td>11.000000</td>\n",
              "    </tr>\n",
              "    <tr>\n",
              "      <th>mean</th>\n",
              "      <td>154.818182</td>\n",
              "      <td>18.727273</td>\n",
              "      <td>20.345455</td>\n",
              "      <td>22.790909</td>\n",
              "      <td>8.962427</td>\n",
              "      <td>3.220736</td>\n",
              "    </tr>\n",
              "    <tr>\n",
              "      <th>std</th>\n",
              "      <td>78.755086</td>\n",
              "      <td>3.284841</td>\n",
              "      <td>3.557348</td>\n",
              "      <td>3.959155</td>\n",
              "      <td>1.615650</td>\n",
              "      <td>0.643347</td>\n",
              "    </tr>\n",
              "    <tr>\n",
              "      <th>min</th>\n",
              "      <td>55.000000</td>\n",
              "      <td>13.500000</td>\n",
              "      <td>14.700000</td>\n",
              "      <td>16.500000</td>\n",
              "      <td>6.577200</td>\n",
              "      <td>2.314200</td>\n",
              "    </tr>\n",
              "    <tr>\n",
              "      <th>25%</th>\n",
              "      <td>105.000000</td>\n",
              "      <td>16.900000</td>\n",
              "      <td>18.350000</td>\n",
              "      <td>20.550000</td>\n",
              "      <td>7.898700</td>\n",
              "      <td>2.795550</td>\n",
              "    </tr>\n",
              "    <tr>\n",
              "      <th>50%</th>\n",
              "      <td>145.000000</td>\n",
              "      <td>19.000000</td>\n",
              "      <td>20.700000</td>\n",
              "      <td>23.200000</td>\n",
              "      <td>8.892800</td>\n",
              "      <td>3.292800</td>\n",
              "    </tr>\n",
              "    <tr>\n",
              "      <th>75%</th>\n",
              "      <td>185.000000</td>\n",
              "      <td>20.500000</td>\n",
              "      <td>22.250000</td>\n",
              "      <td>24.950000</td>\n",
              "      <td>10.041100</td>\n",
              "      <td>3.537000</td>\n",
              "    </tr>\n",
              "    <tr>\n",
              "      <th>max</th>\n",
              "      <td>300.000000</td>\n",
              "      <td>24.000000</td>\n",
              "      <td>26.000000</td>\n",
              "      <td>29.000000</td>\n",
              "      <td>11.368000</td>\n",
              "      <td>4.234000</td>\n",
              "    </tr>\n",
              "  </tbody>\n",
              "</table>\n",
              "</div>"
            ],
            "text/plain": [
              "           weight  vertical_length  ...     height      width\n",
              "count   11.000000        11.000000  ...  11.000000  11.000000\n",
              "mean   154.818182        18.727273  ...   8.962427   3.220736\n",
              "std     78.755086         3.284841  ...   1.615650   0.643347\n",
              "min     55.000000        13.500000  ...   6.577200   2.314200\n",
              "25%    105.000000        16.900000  ...   7.898700   2.795550\n",
              "50%    145.000000        19.000000  ...   8.892800   3.292800\n",
              "75%    185.000000        20.500000  ...  10.041100   3.537000\n",
              "max    300.000000        24.000000  ...  11.368000   4.234000\n",
              "\n",
              "[8 rows x 6 columns]"
            ]
          },
          "metadata": {},
          "execution_count": 47
        }
      ]
    },
    {
      "cell_type": "code",
      "metadata": {
        "colab": {
          "base_uri": "https://localhost:8080/",
          "height": 235
        },
        "id": "xgszneesk76Z",
        "outputId": "86683f70-b989-44b7-b406-4f70dc877e0b"
      },
      "source": [
        "corr_parkki = df_parkki.corr(method='pearson')\n",
        "corr_parkki"
      ],
      "execution_count": 48,
      "outputs": [
        {
          "output_type": "execute_result",
          "data": {
            "text/html": [
              "<div>\n",
              "<style scoped>\n",
              "    .dataframe tbody tr th:only-of-type {\n",
              "        vertical-align: middle;\n",
              "    }\n",
              "\n",
              "    .dataframe tbody tr th {\n",
              "        vertical-align: top;\n",
              "    }\n",
              "\n",
              "    .dataframe thead th {\n",
              "        text-align: right;\n",
              "    }\n",
              "</style>\n",
              "<table border=\"1\" class=\"dataframe\">\n",
              "  <thead>\n",
              "    <tr style=\"text-align: right;\">\n",
              "      <th></th>\n",
              "      <th>weight</th>\n",
              "      <th>vertical_length</th>\n",
              "      <th>diagonal_length</th>\n",
              "      <th>cross_length</th>\n",
              "      <th>height</th>\n",
              "      <th>width</th>\n",
              "    </tr>\n",
              "  </thead>\n",
              "  <tbody>\n",
              "    <tr>\n",
              "      <th>weight</th>\n",
              "      <td>1.000000</td>\n",
              "      <td>0.972159</td>\n",
              "      <td>0.971837</td>\n",
              "      <td>0.970830</td>\n",
              "      <td>0.964023</td>\n",
              "      <td>0.985956</td>\n",
              "    </tr>\n",
              "    <tr>\n",
              "      <th>vertical_length</th>\n",
              "      <td>0.972159</td>\n",
              "      <td>1.000000</td>\n",
              "      <td>0.999941</td>\n",
              "      <td>0.999852</td>\n",
              "      <td>0.982392</td>\n",
              "      <td>0.981945</td>\n",
              "    </tr>\n",
              "    <tr>\n",
              "      <th>diagonal_length</th>\n",
              "      <td>0.971837</td>\n",
              "      <td>0.999941</td>\n",
              "      <td>1.000000</td>\n",
              "      <td>0.999955</td>\n",
              "      <td>0.982578</td>\n",
              "      <td>0.982896</td>\n",
              "    </tr>\n",
              "    <tr>\n",
              "      <th>cross_length</th>\n",
              "      <td>0.970830</td>\n",
              "      <td>0.999852</td>\n",
              "      <td>0.999955</td>\n",
              "      <td>1.000000</td>\n",
              "      <td>0.983122</td>\n",
              "      <td>0.982749</td>\n",
              "    </tr>\n",
              "    <tr>\n",
              "      <th>height</th>\n",
              "      <td>0.964023</td>\n",
              "      <td>0.982392</td>\n",
              "      <td>0.982578</td>\n",
              "      <td>0.983122</td>\n",
              "      <td>1.000000</td>\n",
              "      <td>0.970568</td>\n",
              "    </tr>\n",
              "    <tr>\n",
              "      <th>width</th>\n",
              "      <td>0.985956</td>\n",
              "      <td>0.981945</td>\n",
              "      <td>0.982896</td>\n",
              "      <td>0.982749</td>\n",
              "      <td>0.970568</td>\n",
              "      <td>1.000000</td>\n",
              "    </tr>\n",
              "  </tbody>\n",
              "</table>\n",
              "</div>"
            ],
            "text/plain": [
              "                   weight  vertical_length  ...    height     width\n",
              "weight           1.000000         0.972159  ...  0.964023  0.985956\n",
              "vertical_length  0.972159         1.000000  ...  0.982392  0.981945\n",
              "diagonal_length  0.971837         0.999941  ...  0.982578  0.982896\n",
              "cross_length     0.970830         0.999852  ...  0.983122  0.982749\n",
              "height           0.964023         0.982392  ...  1.000000  0.970568\n",
              "width            0.985956         0.981945  ...  0.970568  1.000000\n",
              "\n",
              "[6 rows x 6 columns]"
            ]
          },
          "metadata": {},
          "execution_count": 48
        }
      ]
    },
    {
      "cell_type": "code",
      "metadata": {
        "colab": {
          "base_uri": "https://localhost:8080/",
          "height": 356
        },
        "id": "gViY3iB-k-Oz",
        "outputId": "fe96195d-cada-4ff0-a624-a944b2872be5"
      },
      "source": [
        "sns.heatmap(corr_parkki, xticklabels = corr_parkki.columns.values, yticklabels=corr_parkki.columns.values)"
      ],
      "execution_count": 49,
      "outputs": [
        {
          "output_type": "execute_result",
          "data": {
            "text/plain": [
              "<matplotlib.axes._subplots.AxesSubplot at 0x7efdbbd5b0d0>"
            ]
          },
          "metadata": {},
          "execution_count": 49
        },
        {
          "output_type": "display_data",
          "data": {
            "image/png": "[encoded data removed]",
            "text/plain": [
              "<Figure size 432x288 with 2 Axes>"
            ]
          },
          "metadata": {
            "needs_background": "light"
          }
        }
      ]
    },
    {
      "cell_type": "code",
      "metadata": {
        "colab": {
          "base_uri": "https://localhost:8080/",
          "height": 607
        },
        "id": "dB1JshsaopJ6",
        "outputId": "45d1549e-5552-4d8c-c3ef-131f0c158606"
      },
      "source": [
        "fig, axs = plt.subplots(2, 3, figsize=(15, 10))\n",
        "\n",
        "axs[0, 0].hist(df_parkki['weight'])\n",
        "axs[0, 0].set_title('Weight')\n",
        "\n",
        "axs[0, 1].hist(df_parkki['vertical_length'])\n",
        "axs[0, 1].set_title('Vertical Length')\n",
        "\n",
        "axs[0, 2].hist(df_parkki['diagonal_length'])\n",
        "axs[0, 2].set_title('Diagonal Length')\n",
        "\n",
        "axs[1, 0].hist(df_parkki['cross_length'])\n",
        "axs[1, 0].set_title('Cross Length')\n",
        "\n",
        "axs[1, 1].hist(df_parkki['height'])\n",
        "axs[1, 1].set_title('Height')\n",
        "\n",
        "axs[1, 2].hist(df_parkki['width'])\n",
        "axs[1, 2].set_title('Width')\n",
        "\n",
        "plt.show()"
      ],
      "execution_count": 50,
      "outputs": [
        {
          "output_type": "display_data",
          "data": {
            "image/png": "[encoded data removed]",
            "text/plain": [
              "<Figure size 1080x720 with 6 Axes>"
            ]
          },
          "metadata": {
            "needs_background": "light"
          }
        }
      ]
    },
    {
      "cell_type": "markdown",
      "metadata": {
        "id": "X8Uvdx8tj7DX"
      },
      "source": [
        "### Perch"
      ]
    },
    {
      "cell_type": "code",
      "metadata": {
        "colab": {
          "base_uri": "https://localhost:8080/",
          "height": 297
        },
        "id": "8TpCSJoYlAC3",
        "outputId": "654a8fe9-5e89-4243-e6f0-12286459ac0c"
      },
      "source": [
        "df_perch.describe()"
      ],
      "execution_count": 51,
      "outputs": [
        {
          "output_type": "execute_result",
          "data": {
            "text/html": [
              "<div>\n",
              "<style scoped>\n",
              "    .dataframe tbody tr th:only-of-type {\n",
              "        vertical-align: middle;\n",
              "    }\n",
              "\n",
              "    .dataframe tbody tr th {\n",
              "        vertical-align: top;\n",
              "    }\n",
              "\n",
              "    .dataframe thead th {\n",
              "        text-align: right;\n",
              "    }\n",
              "</style>\n",
              "<table border=\"1\" class=\"dataframe\">\n",
              "  <thead>\n",
              "    <tr style=\"text-align: right;\">\n",
              "      <th></th>\n",
              "      <th>weight</th>\n",
              "      <th>vertical_length</th>\n",
              "      <th>diagonal_length</th>\n",
              "      <th>cross_length</th>\n",
              "      <th>height</th>\n",
              "      <th>width</th>\n",
              "    </tr>\n",
              "  </thead>\n",
              "  <tbody>\n",
              "    <tr>\n",
              "      <th>count</th>\n",
              "      <td>56.000000</td>\n",
              "      <td>56.000000</td>\n",
              "      <td>56.000000</td>\n",
              "      <td>56.000000</td>\n",
              "      <td>56.000000</td>\n",
              "      <td>56.000000</td>\n",
              "    </tr>\n",
              "    <tr>\n",
              "      <th>mean</th>\n",
              "      <td>382.239286</td>\n",
              "      <td>25.735714</td>\n",
              "      <td>27.892857</td>\n",
              "      <td>29.571429</td>\n",
              "      <td>7.861870</td>\n",
              "      <td>4.745723</td>\n",
              "    </tr>\n",
              "    <tr>\n",
              "      <th>std</th>\n",
              "      <td>347.617717</td>\n",
              "      <td>8.561572</td>\n",
              "      <td>9.021668</td>\n",
              "      <td>9.529509</td>\n",
              "      <td>2.878177</td>\n",
              "      <td>1.774626</td>\n",
              "    </tr>\n",
              "    <tr>\n",
              "      <th>min</th>\n",
              "      <td>5.900000</td>\n",
              "      <td>7.500000</td>\n",
              "      <td>8.400000</td>\n",
              "      <td>8.800000</td>\n",
              "      <td>2.112000</td>\n",
              "      <td>1.408000</td>\n",
              "    </tr>\n",
              "    <tr>\n",
              "      <th>25%</th>\n",
              "      <td>120.000000</td>\n",
              "      <td>19.825000</td>\n",
              "      <td>21.825000</td>\n",
              "      <td>23.325000</td>\n",
              "      <td>5.692500</td>\n",
              "      <td>3.525000</td>\n",
              "    </tr>\n",
              "    <tr>\n",
              "      <th>50%</th>\n",
              "      <td>207.500000</td>\n",
              "      <td>23.250000</td>\n",
              "      <td>25.300000</td>\n",
              "      <td>26.750000</td>\n",
              "      <td>6.921800</td>\n",
              "      <td>4.154900</td>\n",
              "    </tr>\n",
              "    <tr>\n",
              "      <th>75%</th>\n",
              "      <td>692.500000</td>\n",
              "      <td>34.125000</td>\n",
              "      <td>36.625000</td>\n",
              "      <td>39.075000</td>\n",
              "      <td>10.846500</td>\n",
              "      <td>6.448125</td>\n",
              "    </tr>\n",
              "    <tr>\n",
              "      <th>max</th>\n",
              "      <td>1100.000000</td>\n",
              "      <td>41.100000</td>\n",
              "      <td>44.000000</td>\n",
              "      <td>46.600000</td>\n",
              "      <td>12.800200</td>\n",
              "      <td>8.142000</td>\n",
              "    </tr>\n",
              "  </tbody>\n",
              "</table>\n",
              "</div>"
            ],
            "text/plain": [
              "            weight  vertical_length  ...     height      width\n",
              "count    56.000000        56.000000  ...  56.000000  56.000000\n",
              "mean    382.239286        25.735714  ...   7.861870   4.745723\n",
              "std     347.617717         8.561572  ...   2.878177   1.774626\n",
              "min       5.900000         7.500000  ...   2.112000   1.408000\n",
              "25%     120.000000        19.825000  ...   5.692500   3.525000\n",
              "50%     207.500000        23.250000  ...   6.921800   4.154900\n",
              "75%     692.500000        34.125000  ...  10.846500   6.448125\n",
              "max    1100.000000        41.100000  ...  12.800200   8.142000\n",
              "\n",
              "[8 rows x 6 columns]"
            ]
          },
          "metadata": {},
          "execution_count": 51
        }
      ]
    },
    {
      "cell_type": "code",
      "metadata": {
        "colab": {
          "base_uri": "https://localhost:8080/",
          "height": 235
        },
        "id": "4B6EoeQ4lAbc",
        "outputId": "43f55779-17a9-43ec-e52e-9448877d01b5"
      },
      "source": [
        "corr_perch = df_perch.corr(method='pearson')\n",
        "corr_perch"
      ],
      "execution_count": 52,
      "outputs": [
        {
          "output_type": "execute_result",
          "data": {
            "text/html": [
              "<div>\n",
              "<style scoped>\n",
              "    .dataframe tbody tr th:only-of-type {\n",
              "        vertical-align: middle;\n",
              "    }\n",
              "\n",
              "    .dataframe tbody tr th {\n",
              "        vertical-align: top;\n",
              "    }\n",
              "\n",
              "    .dataframe thead th {\n",
              "        text-align: right;\n",
              "    }\n",
              "</style>\n",
              "<table border=\"1\" class=\"dataframe\">\n",
              "  <thead>\n",
              "    <tr style=\"text-align: right;\">\n",
              "      <th></th>\n",
              "      <th>weight</th>\n",
              "      <th>vertical_length</th>\n",
              "      <th>diagonal_length</th>\n",
              "      <th>cross_length</th>\n",
              "      <th>height</th>\n",
              "      <th>width</th>\n",
              "    </tr>\n",
              "  </thead>\n",
              "  <tbody>\n",
              "    <tr>\n",
              "      <th>weight</th>\n",
              "      <td>1.000000</td>\n",
              "      <td>0.958361</td>\n",
              "      <td>0.958656</td>\n",
              "      <td>0.959506</td>\n",
              "      <td>0.968441</td>\n",
              "      <td>0.963943</td>\n",
              "    </tr>\n",
              "    <tr>\n",
              "      <th>vertical_length</th>\n",
              "      <td>0.958361</td>\n",
              "      <td>1.000000</td>\n",
              "      <td>0.999713</td>\n",
              "      <td>0.999427</td>\n",
              "      <td>0.985420</td>\n",
              "      <td>0.974447</td>\n",
              "    </tr>\n",
              "    <tr>\n",
              "      <th>diagonal_length</th>\n",
              "      <td>0.958656</td>\n",
              "      <td>0.999713</td>\n",
              "      <td>1.000000</td>\n",
              "      <td>0.999779</td>\n",
              "      <td>0.985584</td>\n",
              "      <td>0.974617</td>\n",
              "    </tr>\n",
              "    <tr>\n",
              "      <th>cross_length</th>\n",
              "      <td>0.959506</td>\n",
              "      <td>0.999427</td>\n",
              "      <td>0.999779</td>\n",
              "      <td>1.000000</td>\n",
              "      <td>0.985909</td>\n",
              "      <td>0.975131</td>\n",
              "    </tr>\n",
              "    <tr>\n",
              "      <th>height</th>\n",
              "      <td>0.968441</td>\n",
              "      <td>0.985420</td>\n",
              "      <td>0.985584</td>\n",
              "      <td>0.985909</td>\n",
              "      <td>1.000000</td>\n",
              "      <td>0.982943</td>\n",
              "    </tr>\n",
              "    <tr>\n",
              "      <th>width</th>\n",
              "      <td>0.963943</td>\n",
              "      <td>0.974447</td>\n",
              "      <td>0.974617</td>\n",
              "      <td>0.975131</td>\n",
              "      <td>0.982943</td>\n",
              "      <td>1.000000</td>\n",
              "    </tr>\n",
              "  </tbody>\n",
              "</table>\n",
              "</div>"
            ],
            "text/plain": [
              "                   weight  vertical_length  ...    height     width\n",
              "weight           1.000000         0.958361  ...  0.968441  0.963943\n",
              "vertical_length  0.958361         1.000000  ...  0.985420  0.974447\n",
              "diagonal_length  0.958656         0.999713  ...  0.985584  0.974617\n",
              "cross_length     0.959506         0.999427  ...  0.985909  0.975131\n",
              "height           0.968441         0.985420  ...  1.000000  0.982943\n",
              "width            0.963943         0.974447  ...  0.982943  1.000000\n",
              "\n",
              "[6 rows x 6 columns]"
            ]
          },
          "metadata": {},
          "execution_count": 52
        }
      ]
    },
    {
      "cell_type": "code",
      "metadata": {
        "colab": {
          "base_uri": "https://localhost:8080/",
          "height": 356
        },
        "id": "6_jHeiDPlAuK",
        "outputId": "57da39a2-a4fa-4274-94cd-6bb98b39201d"
      },
      "source": [
        "sns.heatmap(corr_perch, xticklabels = corr_perch.columns.values, yticklabels=corr_perch.columns.values)"
      ],
      "execution_count": 53,
      "outputs": [
        {
          "output_type": "execute_result",
          "data": {
            "text/plain": [
              "<matplotlib.axes._subplots.AxesSubplot at 0x7efdbbec1050>"
            ]
          },
          "metadata": {},
          "execution_count": 53
        },
        {
          "output_type": "display_data",
          "data": {
            "image/png": "[encoded data removed]",
            "text/plain": [
              "<Figure size 432x288 with 2 Axes>"
            ]
          },
          "metadata": {
            "needs_background": "light"
          }
        }
      ]
    },
    {
      "cell_type": "code",
      "metadata": {
        "colab": {
          "base_uri": "https://localhost:8080/",
          "height": 607
        },
        "id": "j-XqtyFJozcv",
        "outputId": "805ebafa-cbed-4f0f-cb50-726bd4b40a98"
      },
      "source": [
        "fig, axs = plt.subplots(2, 3, figsize=(15, 10))\n",
        "\n",
        "axs[0, 0].hist(df_perch['weight'])\n",
        "axs[0, 0].set_title('Weight')\n",
        "\n",
        "axs[0, 1].hist(df_perch['vertical_length'])\n",
        "axs[0, 1].set_title('Vertical Length')\n",
        "\n",
        "axs[0, 2].hist(df_perch['diagonal_length'])\n",
        "axs[0, 2].set_title('Diagonal Length')\n",
        "\n",
        "axs[1, 0].hist(df_perch['cross_length'])\n",
        "axs[1, 0].set_title('Cross Length')\n",
        "\n",
        "axs[1, 1].hist(df_perch['height'])\n",
        "axs[1, 1].set_title('Height')\n",
        "\n",
        "axs[1, 2].hist(df_perch['width'])\n",
        "axs[1, 2].set_title('Width')\n",
        "\n",
        "plt.show()"
      ],
      "execution_count": 54,
      "outputs": [
        {
          "output_type": "display_data",
          "data": {
            "image/png": "[encoded data removed]",
            "text/plain": [
              "<Figure size 1080x720 with 6 Axes>"
            ]
          },
          "metadata": {
            "needs_background": "light"
          }
        }
      ]
    },
    {
      "cell_type": "markdown",
      "metadata": {
        "id": "DoNt7198j99r"
      },
      "source": [
        "### Pike"
      ]
    },
    {
      "cell_type": "code",
      "metadata": {
        "colab": {
          "base_uri": "https://localhost:8080/",
          "height": 297
        },
        "id": "yefpzPj7lJ66",
        "outputId": "e29d0a23-1332-4aff-c4e1-75139f16e3f1"
      },
      "source": [
        "df_pike.describe()"
      ],
      "execution_count": 55,
      "outputs": [
        {
          "output_type": "execute_result",
          "data": {
            "text/html": [
              "<div>\n",
              "<style scoped>\n",
              "    .dataframe tbody tr th:only-of-type {\n",
              "        vertical-align: middle;\n",
              "    }\n",
              "\n",
              "    .dataframe tbody tr th {\n",
              "        vertical-align: top;\n",
              "    }\n",
              "\n",
              "    .dataframe thead th {\n",
              "        text-align: right;\n",
              "    }\n",
              "</style>\n",
              "<table border=\"1\" class=\"dataframe\">\n",
              "  <thead>\n",
              "    <tr style=\"text-align: right;\">\n",
              "      <th></th>\n",
              "      <th>weight</th>\n",
              "      <th>vertical_length</th>\n",
              "      <th>diagonal_length</th>\n",
              "      <th>cross_length</th>\n",
              "      <th>height</th>\n",
              "      <th>width</th>\n",
              "    </tr>\n",
              "  </thead>\n",
              "  <tbody>\n",
              "    <tr>\n",
              "      <th>count</th>\n",
              "      <td>17.000000</td>\n",
              "      <td>17.000000</td>\n",
              "      <td>17.000000</td>\n",
              "      <td>17.000000</td>\n",
              "      <td>17.000000</td>\n",
              "      <td>17.000000</td>\n",
              "    </tr>\n",
              "    <tr>\n",
              "      <th>mean</th>\n",
              "      <td>718.705882</td>\n",
              "      <td>42.476471</td>\n",
              "      <td>45.482353</td>\n",
              "      <td>48.717647</td>\n",
              "      <td>7.713771</td>\n",
              "      <td>5.086382</td>\n",
              "    </tr>\n",
              "    <tr>\n",
              "      <th>std</th>\n",
              "      <td>494.140765</td>\n",
              "      <td>9.029087</td>\n",
              "      <td>9.714116</td>\n",
              "      <td>10.167426</td>\n",
              "      <td>1.664228</td>\n",
              "      <td>1.140269</td>\n",
              "    </tr>\n",
              "    <tr>\n",
              "      <th>min</th>\n",
              "      <td>200.000000</td>\n",
              "      <td>30.000000</td>\n",
              "      <td>32.300000</td>\n",
              "      <td>34.800000</td>\n",
              "      <td>5.568000</td>\n",
              "      <td>3.375600</td>\n",
              "    </tr>\n",
              "    <tr>\n",
              "      <th>25%</th>\n",
              "      <td>345.000000</td>\n",
              "      <td>35.500000</td>\n",
              "      <td>38.000000</td>\n",
              "      <td>40.500000</td>\n",
              "      <td>6.396000</td>\n",
              "      <td>4.322500</td>\n",
              "    </tr>\n",
              "    <tr>\n",
              "      <th>50%</th>\n",
              "      <td>510.000000</td>\n",
              "      <td>40.100000</td>\n",
              "      <td>43.000000</td>\n",
              "      <td>45.800000</td>\n",
              "      <td>7.290000</td>\n",
              "      <td>4.870000</td>\n",
              "    </tr>\n",
              "    <tr>\n",
              "      <th>75%</th>\n",
              "      <td>950.000000</td>\n",
              "      <td>48.300000</td>\n",
              "      <td>51.700000</td>\n",
              "      <td>55.100000</td>\n",
              "      <td>8.926200</td>\n",
              "      <td>6.144000</td>\n",
              "    </tr>\n",
              "    <tr>\n",
              "      <th>max</th>\n",
              "      <td>1650.000000</td>\n",
              "      <td>59.000000</td>\n",
              "      <td>63.400000</td>\n",
              "      <td>68.000000</td>\n",
              "      <td>10.812000</td>\n",
              "      <td>7.480000</td>\n",
              "    </tr>\n",
              "  </tbody>\n",
              "</table>\n",
              "</div>"
            ],
            "text/plain": [
              "            weight  vertical_length  ...     height      width\n",
              "count    17.000000        17.000000  ...  17.000000  17.000000\n",
              "mean    718.705882        42.476471  ...   7.713771   5.086382\n",
              "std     494.140765         9.029087  ...   1.664228   1.140269\n",
              "min     200.000000        30.000000  ...   5.568000   3.375600\n",
              "25%     345.000000        35.500000  ...   6.396000   4.322500\n",
              "50%     510.000000        40.100000  ...   7.290000   4.870000\n",
              "75%     950.000000        48.300000  ...   8.926200   6.144000\n",
              "max    1650.000000        59.000000  ...  10.812000   7.480000\n",
              "\n",
              "[8 rows x 6 columns]"
            ]
          },
          "metadata": {},
          "execution_count": 55
        }
      ]
    },
    {
      "cell_type": "code",
      "metadata": {
        "colab": {
          "base_uri": "https://localhost:8080/",
          "height": 235
        },
        "id": "KKbNE_rYlPcg",
        "outputId": "20a55c4e-110b-46c3-914b-39b1c357d626"
      },
      "source": [
        "corr_pike = df_pike.corr(method='pearson')\n",
        "corr_pike"
      ],
      "execution_count": 56,
      "outputs": [
        {
          "output_type": "execute_result",
          "data": {
            "text/html": [
              "<div>\n",
              "<style scoped>\n",
              "    .dataframe tbody tr th:only-of-type {\n",
              "        vertical-align: middle;\n",
              "    }\n",
              "\n",
              "    .dataframe tbody tr th {\n",
              "        vertical-align: top;\n",
              "    }\n",
              "\n",
              "    .dataframe thead th {\n",
              "        text-align: right;\n",
              "    }\n",
              "</style>\n",
              "<table border=\"1\" class=\"dataframe\">\n",
              "  <thead>\n",
              "    <tr style=\"text-align: right;\">\n",
              "      <th></th>\n",
              "      <th>weight</th>\n",
              "      <th>vertical_length</th>\n",
              "      <th>diagonal_length</th>\n",
              "      <th>cross_length</th>\n",
              "      <th>height</th>\n",
              "      <th>width</th>\n",
              "    </tr>\n",
              "  </thead>\n",
              "  <tbody>\n",
              "    <tr>\n",
              "      <th>weight</th>\n",
              "      <td>1.000000</td>\n",
              "      <td>0.971992</td>\n",
              "      <td>0.974074</td>\n",
              "      <td>0.979019</td>\n",
              "      <td>0.936475</td>\n",
              "      <td>0.919733</td>\n",
              "    </tr>\n",
              "    <tr>\n",
              "      <th>vertical_length</th>\n",
              "      <td>0.971992</td>\n",
              "      <td>1.000000</td>\n",
              "      <td>0.999850</td>\n",
              "      <td>0.998547</td>\n",
              "      <td>0.953398</td>\n",
              "      <td>0.932718</td>\n",
              "    </tr>\n",
              "    <tr>\n",
              "      <th>diagonal_length</th>\n",
              "      <td>0.974074</td>\n",
              "      <td>0.999850</td>\n",
              "      <td>1.000000</td>\n",
              "      <td>0.998914</td>\n",
              "      <td>0.955495</td>\n",
              "      <td>0.936194</td>\n",
              "    </tr>\n",
              "    <tr>\n",
              "      <th>cross_length</th>\n",
              "      <td>0.979019</td>\n",
              "      <td>0.998547</td>\n",
              "      <td>0.998914</td>\n",
              "      <td>1.000000</td>\n",
              "      <td>0.953083</td>\n",
              "      <td>0.941442</td>\n",
              "    </tr>\n",
              "    <tr>\n",
              "      <th>height</th>\n",
              "      <td>0.936475</td>\n",
              "      <td>0.953398</td>\n",
              "      <td>0.955495</td>\n",
              "      <td>0.953083</td>\n",
              "      <td>1.000000</td>\n",
              "      <td>0.966731</td>\n",
              "    </tr>\n",
              "    <tr>\n",
              "      <th>width</th>\n",
              "      <td>0.919733</td>\n",
              "      <td>0.932718</td>\n",
              "      <td>0.936194</td>\n",
              "      <td>0.941442</td>\n",
              "      <td>0.966731</td>\n",
              "      <td>1.000000</td>\n",
              "    </tr>\n",
              "  </tbody>\n",
              "</table>\n",
              "</div>"
            ],
            "text/plain": [
              "                   weight  vertical_length  ...    height     width\n",
              "weight           1.000000         0.971992  ...  0.936475  0.919733\n",
              "vertical_length  0.971992         1.000000  ...  0.953398  0.932718\n",
              "diagonal_length  0.974074         0.999850  ...  0.955495  0.936194\n",
              "cross_length     0.979019         0.998547  ...  0.953083  0.941442\n",
              "height           0.936475         0.953398  ...  1.000000  0.966731\n",
              "width            0.919733         0.932718  ...  0.966731  1.000000\n",
              "\n",
              "[6 rows x 6 columns]"
            ]
          },
          "metadata": {},
          "execution_count": 56
        }
      ]
    },
    {
      "cell_type": "code",
      "metadata": {
        "colab": {
          "base_uri": "https://localhost:8080/",
          "height": 356
        },
        "id": "G2_HgpkPlTdm",
        "outputId": "2d53b8cc-d060-42cd-9649-c76b9aaa56a0"
      },
      "source": [
        "sns.heatmap(corr_pike, xticklabels = corr_pike.columns.values, yticklabels=corr_pike.columns.values)"
      ],
      "execution_count": 57,
      "outputs": [
        {
          "output_type": "execute_result",
          "data": {
            "text/plain": [
              "<matplotlib.axes._subplots.AxesSubplot at 0x7efdbc659f90>"
            ]
          },
          "metadata": {},
          "execution_count": 57
        },
        {
          "output_type": "display_data",
          "data": {
            "image/png": "[encoded data removed]",
            "text/plain": [
              "<Figure size 432x288 with 2 Axes>"
            ]
          },
          "metadata": {
            "needs_background": "light"
          }
        }
      ]
    },
    {
      "cell_type": "code",
      "metadata": {
        "colab": {
          "base_uri": "https://localhost:8080/",
          "height": 607
        },
        "id": "ITT-pcrzo2L7",
        "outputId": "dcb4b56c-e266-4867-c51a-caf7f5072195"
      },
      "source": [
        "fig, axs = plt.subplots(2, 3, figsize=(15, 10))\n",
        "\n",
        "axs[0, 0].hist(df_pike['weight'])\n",
        "axs[0, 0].set_title('Weight')\n",
        "\n",
        "axs[0, 1].hist(df_pike['vertical_length'])\n",
        "axs[0, 1].set_title('Vertical Length')\n",
        "\n",
        "axs[0, 2].hist(df_pike['diagonal_length'])\n",
        "axs[0, 2].set_title('Diagonal Length')\n",
        "\n",
        "axs[1, 0].hist(df_pike['cross_length'])\n",
        "axs[1, 0].set_title('Cross Length')\n",
        "\n",
        "axs[1, 1].hist(df_pike['height'])\n",
        "axs[1, 1].set_title('Height')\n",
        "\n",
        "axs[1, 2].hist(df_pike['width'])\n",
        "axs[1, 2].set_title('Width')\n",
        "\n",
        "plt.show()"
      ],
      "execution_count": 58,
      "outputs": [
        {
          "output_type": "display_data",
          "data": {
            "image/png": "[encoded data removed]",
            "text/plain": [
              "<Figure size 1080x720 with 6 Axes>"
            ]
          },
          "metadata": {
            "needs_background": "light"
          }
        }
      ]
    },
    {
      "cell_type": "markdown",
      "metadata": {
        "id": "9jo438aTkDW3"
      },
      "source": [
        "### Roach"
      ]
    },
    {
      "cell_type": "code",
      "metadata": {
        "colab": {
          "base_uri": "https://localhost:8080/",
          "height": 297
        },
        "id": "aiN70WzslKds",
        "outputId": "3dbb1c4d-9409-46b8-999a-6f98ea1cd685"
      },
      "source": [
        "df_roach.describe()"
      ],
      "execution_count": 59,
      "outputs": [
        {
          "output_type": "execute_result",
          "data": {
            "text/html": [
              "<div>\n",
              "<style scoped>\n",
              "    .dataframe tbody tr th:only-of-type {\n",
              "        vertical-align: middle;\n",
              "    }\n",
              "\n",
              "    .dataframe tbody tr th {\n",
              "        vertical-align: top;\n",
              "    }\n",
              "\n",
              "    .dataframe thead th {\n",
              "        text-align: right;\n",
              "    }\n",
              "</style>\n",
              "<table border=\"1\" class=\"dataframe\">\n",
              "  <thead>\n",
              "    <tr style=\"text-align: right;\">\n",
              "      <th></th>\n",
              "      <th>weight</th>\n",
              "      <th>vertical_length</th>\n",
              "      <th>diagonal_length</th>\n",
              "      <th>cross_length</th>\n",
              "      <th>height</th>\n",
              "      <th>width</th>\n",
              "    </tr>\n",
              "  </thead>\n",
              "  <tbody>\n",
              "    <tr>\n",
              "      <th>count</th>\n",
              "      <td>20.000000</td>\n",
              "      <td>20.000000</td>\n",
              "      <td>20.000000</td>\n",
              "      <td>20.000000</td>\n",
              "      <td>20.000000</td>\n",
              "      <td>20.000000</td>\n",
              "    </tr>\n",
              "    <tr>\n",
              "      <th>mean</th>\n",
              "      <td>152.050000</td>\n",
              "      <td>20.645000</td>\n",
              "      <td>22.275000</td>\n",
              "      <td>24.970000</td>\n",
              "      <td>6.694795</td>\n",
              "      <td>3.657850</td>\n",
              "    </tr>\n",
              "    <tr>\n",
              "      <th>std</th>\n",
              "      <td>88.828916</td>\n",
              "      <td>3.459917</td>\n",
              "      <td>3.651946</td>\n",
              "      <td>4.031599</td>\n",
              "      <td>1.261192</td>\n",
              "      <td>0.690371</td>\n",
              "    </tr>\n",
              "    <tr>\n",
              "      <th>min</th>\n",
              "      <td>0.000000</td>\n",
              "      <td>12.900000</td>\n",
              "      <td>14.100000</td>\n",
              "      <td>16.200000</td>\n",
              "      <td>4.147200</td>\n",
              "      <td>2.268000</td>\n",
              "    </tr>\n",
              "    <tr>\n",
              "      <th>25%</th>\n",
              "      <td>104.250000</td>\n",
              "      <td>18.900000</td>\n",
              "      <td>20.375000</td>\n",
              "      <td>22.650000</td>\n",
              "      <td>6.037075</td>\n",
              "      <td>3.317325</td>\n",
              "    </tr>\n",
              "    <tr>\n",
              "      <th>50%</th>\n",
              "      <td>147.500000</td>\n",
              "      <td>20.500000</td>\n",
              "      <td>22.250000</td>\n",
              "      <td>24.850000</td>\n",
              "      <td>6.512600</td>\n",
              "      <td>3.602700</td>\n",
              "    </tr>\n",
              "    <tr>\n",
              "      <th>75%</th>\n",
              "      <td>171.750000</td>\n",
              "      <td>22.025000</td>\n",
              "      <td>23.625000</td>\n",
              "      <td>26.900000</td>\n",
              "      <td>7.164150</td>\n",
              "      <td>3.852900</td>\n",
              "    </tr>\n",
              "    <tr>\n",
              "      <th>max</th>\n",
              "      <td>390.000000</td>\n",
              "      <td>29.500000</td>\n",
              "      <td>31.700000</td>\n",
              "      <td>35.000000</td>\n",
              "      <td>9.485000</td>\n",
              "      <td>5.355000</td>\n",
              "    </tr>\n",
              "  </tbody>\n",
              "</table>\n",
              "</div>"
            ],
            "text/plain": [
              "           weight  vertical_length  ...     height      width\n",
              "count   20.000000        20.000000  ...  20.000000  20.000000\n",
              "mean   152.050000        20.645000  ...   6.694795   3.657850\n",
              "std     88.828916         3.459917  ...   1.261192   0.690371\n",
              "min      0.000000        12.900000  ...   4.147200   2.268000\n",
              "25%    104.250000        18.900000  ...   6.037075   3.317325\n",
              "50%    147.500000        20.500000  ...   6.512600   3.602700\n",
              "75%    171.750000        22.025000  ...   7.164150   3.852900\n",
              "max    390.000000        29.500000  ...   9.485000   5.355000\n",
              "\n",
              "[8 rows x 6 columns]"
            ]
          },
          "metadata": {},
          "execution_count": 59
        }
      ]
    },
    {
      "cell_type": "code",
      "metadata": {
        "colab": {
          "base_uri": "https://localhost:8080/",
          "height": 235
        },
        "id": "tnohwgB_lQQX",
        "outputId": "84401b6e-4e90-48c2-f537-1e4e6ba1e2f4"
      },
      "source": [
        "corr_roach = df_roach.corr(method='pearson')\n",
        "corr_roach"
      ],
      "execution_count": 60,
      "outputs": [
        {
          "output_type": "execute_result",
          "data": {
            "text/html": [
              "<div>\n",
              "<style scoped>\n",
              "    .dataframe tbody tr th:only-of-type {\n",
              "        vertical-align: middle;\n",
              "    }\n",
              "\n",
              "    .dataframe tbody tr th {\n",
              "        vertical-align: top;\n",
              "    }\n",
              "\n",
              "    .dataframe thead th {\n",
              "        text-align: right;\n",
              "    }\n",
              "</style>\n",
              "<table border=\"1\" class=\"dataframe\">\n",
              "  <thead>\n",
              "    <tr style=\"text-align: right;\">\n",
              "      <th></th>\n",
              "      <th>weight</th>\n",
              "      <th>vertical_length</th>\n",
              "      <th>diagonal_length</th>\n",
              "      <th>cross_length</th>\n",
              "      <th>height</th>\n",
              "      <th>width</th>\n",
              "    </tr>\n",
              "  </thead>\n",
              "  <tbody>\n",
              "    <tr>\n",
              "      <th>weight</th>\n",
              "      <td>1.000000</td>\n",
              "      <td>0.908293</td>\n",
              "      <td>0.912608</td>\n",
              "      <td>0.917670</td>\n",
              "      <td>0.892022</td>\n",
              "      <td>0.924282</td>\n",
              "    </tr>\n",
              "    <tr>\n",
              "      <th>vertical_length</th>\n",
              "      <td>0.908293</td>\n",
              "      <td>1.000000</td>\n",
              "      <td>0.998456</td>\n",
              "      <td>0.995986</td>\n",
              "      <td>0.944971</td>\n",
              "      <td>0.959626</td>\n",
              "    </tr>\n",
              "    <tr>\n",
              "      <th>diagonal_length</th>\n",
              "      <td>0.912608</td>\n",
              "      <td>0.998456</td>\n",
              "      <td>1.000000</td>\n",
              "      <td>0.997550</td>\n",
              "      <td>0.951763</td>\n",
              "      <td>0.963086</td>\n",
              "    </tr>\n",
              "    <tr>\n",
              "      <th>cross_length</th>\n",
              "      <td>0.917670</td>\n",
              "      <td>0.995986</td>\n",
              "      <td>0.997550</td>\n",
              "      <td>1.000000</td>\n",
              "      <td>0.956686</td>\n",
              "      <td>0.964492</td>\n",
              "    </tr>\n",
              "    <tr>\n",
              "      <th>height</th>\n",
              "      <td>0.892022</td>\n",
              "      <td>0.944971</td>\n",
              "      <td>0.951763</td>\n",
              "      <td>0.956686</td>\n",
              "      <td>1.000000</td>\n",
              "      <td>0.951269</td>\n",
              "    </tr>\n",
              "    <tr>\n",
              "      <th>width</th>\n",
              "      <td>0.924282</td>\n",
              "      <td>0.959626</td>\n",
              "      <td>0.963086</td>\n",
              "      <td>0.964492</td>\n",
              "      <td>0.951269</td>\n",
              "      <td>1.000000</td>\n",
              "    </tr>\n",
              "  </tbody>\n",
              "</table>\n",
              "</div>"
            ],
            "text/plain": [
              "                   weight  vertical_length  ...    height     width\n",
              "weight           1.000000         0.908293  ...  0.892022  0.924282\n",
              "vertical_length  0.908293         1.000000  ...  0.944971  0.959626\n",
              "diagonal_length  0.912608         0.998456  ...  0.951763  0.963086\n",
              "cross_length     0.917670         0.995986  ...  0.956686  0.964492\n",
              "height           0.892022         0.944971  ...  1.000000  0.951269\n",
              "width            0.924282         0.959626  ...  0.951269  1.000000\n",
              "\n",
              "[6 rows x 6 columns]"
            ]
          },
          "metadata": {},
          "execution_count": 60
        }
      ]
    },
    {
      "cell_type": "code",
      "metadata": {
        "colab": {
          "base_uri": "https://localhost:8080/",
          "height": 356
        },
        "id": "ps3rqizWlUQY",
        "outputId": "f1934f37-fd2b-4d5d-aa70-409cda4c8ccb"
      },
      "source": [
        "sns.heatmap(corr_roach, xticklabels = corr_roach.columns.values, yticklabels=corr_roach.columns.values)"
      ],
      "execution_count": 61,
      "outputs": [
        {
          "output_type": "execute_result",
          "data": {
            "text/plain": [
              "<matplotlib.axes._subplots.AxesSubplot at 0x7efdbb813490>"
            ]
          },
          "metadata": {},
          "execution_count": 61
        },
        {
          "output_type": "display_data",
          "data": {
            "image/png": "[encoded data removed]",
            "text/plain": [
              "<Figure size 432x288 with 2 Axes>"
            ]
          },
          "metadata": {
            "needs_background": "light"
          }
        }
      ]
    },
    {
      "cell_type": "code",
      "metadata": {
        "colab": {
          "base_uri": "https://localhost:8080/",
          "height": 607
        },
        "id": "ntVBc29yo33m",
        "outputId": "c6434cfa-718b-475d-ae63-c03e2f91834c"
      },
      "source": [
        "fig, axs = plt.subplots(2, 3, figsize=(15, 10))\n",
        "\n",
        "axs[0, 0].hist(df_roach['weight'])\n",
        "axs[0, 0].set_title('Weight')\n",
        "\n",
        "axs[0, 1].hist(df_roach['vertical_length'])\n",
        "axs[0, 1].set_title('Vertical Length')\n",
        "\n",
        "axs[0, 2].hist(df_roach['diagonal_length'])\n",
        "axs[0, 2].set_title('Diagonal Length')\n",
        "\n",
        "axs[1, 0].hist(df_roach['cross_length'])\n",
        "axs[1, 0].set_title('Cross Length')\n",
        "\n",
        "axs[1, 1].hist(df_roach['height'])\n",
        "axs[1, 1].set_title('Height')\n",
        "\n",
        "axs[1, 2].hist(df_roach['width'])\n",
        "axs[1, 2].set_title('Width')\n",
        "\n",
        "plt.show()"
      ],
      "execution_count": 62,
      "outputs": [
        {
          "output_type": "display_data",
          "data": {
            "image/png": "[encoded data removed]",
            "text/plain": [
              "<Figure size 1080x720 with 6 Axes>"
            ]
          },
          "metadata": {
            "needs_background": "light"
          }
        }
      ]
    },
    {
      "cell_type": "markdown",
      "metadata": {
        "id": "_Kq3SIEOkFr9"
      },
      "source": [
        "### Smelt"
      ]
    },
    {
      "cell_type": "code",
      "metadata": {
        "colab": {
          "base_uri": "https://localhost:8080/",
          "height": 297
        },
        "id": "wHUgJUEWlKz0",
        "outputId": "869718d2-a15d-4ba4-b6d8-8473bf88d64d"
      },
      "source": [
        "df_smelt.describe()"
      ],
      "execution_count": 63,
      "outputs": [
        {
          "output_type": "execute_result",
          "data": {
            "text/html": [
              "<div>\n",
              "<style scoped>\n",
              "    .dataframe tbody tr th:only-of-type {\n",
              "        vertical-align: middle;\n",
              "    }\n",
              "\n",
              "    .dataframe tbody tr th {\n",
              "        vertical-align: top;\n",
              "    }\n",
              "\n",
              "    .dataframe thead th {\n",
              "        text-align: right;\n",
              "    }\n",
              "</style>\n",
              "<table border=\"1\" class=\"dataframe\">\n",
              "  <thead>\n",
              "    <tr style=\"text-align: right;\">\n",
              "      <th></th>\n",
              "      <th>weight</th>\n",
              "      <th>vertical_length</th>\n",
              "      <th>diagonal_length</th>\n",
              "      <th>cross_length</th>\n",
              "      <th>height</th>\n",
              "      <th>width</th>\n",
              "    </tr>\n",
              "  </thead>\n",
              "  <tbody>\n",
              "    <tr>\n",
              "      <th>count</th>\n",
              "      <td>14.000000</td>\n",
              "      <td>14.000000</td>\n",
              "      <td>14.000000</td>\n",
              "      <td>14.000000</td>\n",
              "      <td>14.000000</td>\n",
              "      <td>14.000000</td>\n",
              "    </tr>\n",
              "    <tr>\n",
              "      <th>mean</th>\n",
              "      <td>11.178571</td>\n",
              "      <td>11.257143</td>\n",
              "      <td>11.921429</td>\n",
              "      <td>13.035714</td>\n",
              "      <td>2.209371</td>\n",
              "      <td>1.340093</td>\n",
              "    </tr>\n",
              "    <tr>\n",
              "      <th>std</th>\n",
              "      <td>4.131526</td>\n",
              "      <td>1.216372</td>\n",
              "      <td>1.432147</td>\n",
              "      <td>1.426457</td>\n",
              "      <td>0.351780</td>\n",
              "      <td>0.286611</td>\n",
              "    </tr>\n",
              "    <tr>\n",
              "      <th>min</th>\n",
              "      <td>6.700000</td>\n",
              "      <td>9.300000</td>\n",
              "      <td>9.800000</td>\n",
              "      <td>10.800000</td>\n",
              "      <td>1.728400</td>\n",
              "      <td>1.047600</td>\n",
              "    </tr>\n",
              "    <tr>\n",
              "      <th>25%</th>\n",
              "      <td>8.950000</td>\n",
              "      <td>10.475000</td>\n",
              "      <td>11.050000</td>\n",
              "      <td>12.100000</td>\n",
              "      <td>2.004450</td>\n",
              "      <td>1.161475</td>\n",
              "    </tr>\n",
              "    <tr>\n",
              "      <th>50%</th>\n",
              "      <td>9.850000</td>\n",
              "      <td>11.300000</td>\n",
              "      <td>11.800000</td>\n",
              "      <td>13.100000</td>\n",
              "      <td>2.200200</td>\n",
              "      <td>1.273100</td>\n",
              "    </tr>\n",
              "    <tr>\n",
              "      <th>75%</th>\n",
              "      <td>12.200000</td>\n",
              "      <td>11.650000</td>\n",
              "      <td>12.350000</td>\n",
              "      <td>13.475000</td>\n",
              "      <td>2.261225</td>\n",
              "      <td>1.356300</td>\n",
              "    </tr>\n",
              "    <tr>\n",
              "      <th>max</th>\n",
              "      <td>19.900000</td>\n",
              "      <td>13.800000</td>\n",
              "      <td>15.000000</td>\n",
              "      <td>16.200000</td>\n",
              "      <td>2.932200</td>\n",
              "      <td>2.067200</td>\n",
              "    </tr>\n",
              "  </tbody>\n",
              "</table>\n",
              "</div>"
            ],
            "text/plain": [
              "          weight  vertical_length  ...     height      width\n",
              "count  14.000000        14.000000  ...  14.000000  14.000000\n",
              "mean   11.178571        11.257143  ...   2.209371   1.340093\n",
              "std     4.131526         1.216372  ...   0.351780   0.286611\n",
              "min     6.700000         9.300000  ...   1.728400   1.047600\n",
              "25%     8.950000        10.475000  ...   2.004450   1.161475\n",
              "50%     9.850000        11.300000  ...   2.200200   1.273100\n",
              "75%    12.200000        11.650000  ...   2.261225   1.356300\n",
              "max    19.900000        13.800000  ...   2.932200   2.067200\n",
              "\n",
              "[8 rows x 6 columns]"
            ]
          },
          "metadata": {},
          "execution_count": 63
        }
      ]
    },
    {
      "cell_type": "code",
      "metadata": {
        "colab": {
          "base_uri": "https://localhost:8080/",
          "height": 235
        },
        "id": "eOkMQ30qlQ9j",
        "outputId": "9b66101a-b261-48db-c355-1bff4b993d8e"
      },
      "source": [
        "corr_smelt = df_smelt.corr(method='pearson')\n",
        "corr_smelt"
      ],
      "execution_count": 64,
      "outputs": [
        {
          "output_type": "execute_result",
          "data": {
            "text/html": [
              "<div>\n",
              "<style scoped>\n",
              "    .dataframe tbody tr th:only-of-type {\n",
              "        vertical-align: middle;\n",
              "    }\n",
              "\n",
              "    .dataframe tbody tr th {\n",
              "        vertical-align: top;\n",
              "    }\n",
              "\n",
              "    .dataframe thead th {\n",
              "        text-align: right;\n",
              "    }\n",
              "</style>\n",
              "<table border=\"1\" class=\"dataframe\">\n",
              "  <thead>\n",
              "    <tr style=\"text-align: right;\">\n",
              "      <th></th>\n",
              "      <th>weight</th>\n",
              "      <th>vertical_length</th>\n",
              "      <th>diagonal_length</th>\n",
              "      <th>cross_length</th>\n",
              "      <th>height</th>\n",
              "      <th>width</th>\n",
              "    </tr>\n",
              "  </thead>\n",
              "  <tbody>\n",
              "    <tr>\n",
              "      <th>weight</th>\n",
              "      <td>1.000000</td>\n",
              "      <td>0.947743</td>\n",
              "      <td>0.960818</td>\n",
              "      <td>0.947868</td>\n",
              "      <td>0.960512</td>\n",
              "      <td>0.922378</td>\n",
              "    </tr>\n",
              "    <tr>\n",
              "      <th>vertical_length</th>\n",
              "      <td>0.947743</td>\n",
              "      <td>1.000000</td>\n",
              "      <td>0.997199</td>\n",
              "      <td>0.997566</td>\n",
              "      <td>0.937659</td>\n",
              "      <td>0.817129</td>\n",
              "    </tr>\n",
              "    <tr>\n",
              "      <th>diagonal_length</th>\n",
              "      <td>0.960818</td>\n",
              "      <td>0.997199</td>\n",
              "      <td>1.000000</td>\n",
              "      <td>0.994037</td>\n",
              "      <td>0.941374</td>\n",
              "      <td>0.836672</td>\n",
              "    </tr>\n",
              "    <tr>\n",
              "      <th>cross_length</th>\n",
              "      <td>0.947868</td>\n",
              "      <td>0.997566</td>\n",
              "      <td>0.994037</td>\n",
              "      <td>1.000000</td>\n",
              "      <td>0.936907</td>\n",
              "      <td>0.821387</td>\n",
              "    </tr>\n",
              "    <tr>\n",
              "      <th>height</th>\n",
              "      <td>0.960512</td>\n",
              "      <td>0.937659</td>\n",
              "      <td>0.941374</td>\n",
              "      <td>0.936907</td>\n",
              "      <td>1.000000</td>\n",
              "      <td>0.867391</td>\n",
              "    </tr>\n",
              "    <tr>\n",
              "      <th>width</th>\n",
              "      <td>0.922378</td>\n",
              "      <td>0.817129</td>\n",
              "      <td>0.836672</td>\n",
              "      <td>0.821387</td>\n",
              "      <td>0.867391</td>\n",
              "      <td>1.000000</td>\n",
              "    </tr>\n",
              "  </tbody>\n",
              "</table>\n",
              "</div>"
            ],
            "text/plain": [
              "                   weight  vertical_length  ...    height     width\n",
              "weight           1.000000         0.947743  ...  0.960512  0.922378\n",
              "vertical_length  0.947743         1.000000  ...  0.937659  0.817129\n",
              "diagonal_length  0.960818         0.997199  ...  0.941374  0.836672\n",
              "cross_length     0.947868         0.997566  ...  0.936907  0.821387\n",
              "height           0.960512         0.937659  ...  1.000000  0.867391\n",
              "width            0.922378         0.817129  ...  0.867391  1.000000\n",
              "\n",
              "[6 rows x 6 columns]"
            ]
          },
          "metadata": {},
          "execution_count": 64
        }
      ]
    },
    {
      "cell_type": "code",
      "metadata": {
        "colab": {
          "base_uri": "https://localhost:8080/",
          "height": 356
        },
        "id": "tb3JnQ5tlU7M",
        "outputId": "a1c4d42a-afb2-4280-da86-b4eee13b7183"
      },
      "source": [
        "sns.heatmap(corr_smelt, xticklabels = corr_smelt.columns.values, yticklabels=corr_smelt.columns.values)"
      ],
      "execution_count": 65,
      "outputs": [
        {
          "output_type": "execute_result",
          "data": {
            "text/plain": [
              "<matplotlib.axes._subplots.AxesSubplot at 0x7efdbba9ced0>"
            ]
          },
          "metadata": {},
          "execution_count": 65
        },
        {
          "output_type": "display_data",
          "data": {
            "image/png": "[encoded data removed]",
            "text/plain": [
              "<Figure size 432x288 with 2 Axes>"
            ]
          },
          "metadata": {
            "needs_background": "light"
          }
        }
      ]
    },
    {
      "cell_type": "code",
      "metadata": {
        "colab": {
          "base_uri": "https://localhost:8080/",
          "height": 607
        },
        "id": "CXRIe7cEo56U",
        "outputId": "4b4a9533-c641-4627-d87d-c511ba79ee3d"
      },
      "source": [
        "fig, axs = plt.subplots(2, 3, figsize=(15, 10))\n",
        "\n",
        "axs[0, 0].hist(df_smelt['weight'])\n",
        "axs[0, 0].set_title('Weight')\n",
        "\n",
        "axs[0, 1].hist(df_smelt['vertical_length'])\n",
        "axs[0, 1].set_title('Vertical Length')\n",
        "\n",
        "axs[0, 2].hist(df_smelt['diagonal_length'])\n",
        "axs[0, 2].set_title('Diagonal Length')\n",
        "\n",
        "axs[1, 0].hist(df_smelt['cross_length'])\n",
        "axs[1, 0].set_title('Cross Length')\n",
        "\n",
        "axs[1, 1].hist(df_smelt['height'])\n",
        "axs[1, 1].set_title('Height')\n",
        "\n",
        "axs[1, 2].hist(df_smelt['width'])\n",
        "axs[1, 2].set_title('Width')\n",
        "\n",
        "plt.show()"
      ],
      "execution_count": 66,
      "outputs": [
        {
          "output_type": "display_data",
          "data": {
            "image/png": "[encoded data removed]",
            "text/plain": [
              "<Figure size 1080x720 with 6 Axes>"
            ]
          },
          "metadata": {
            "needs_background": "light"
          }
        }
      ]
    },
    {
      "cell_type": "markdown",
      "metadata": {
        "id": "MxM7BDDwkID5"
      },
      "source": [
        "### Whitefish"
      ]
    },
    {
      "cell_type": "code",
      "metadata": {
        "colab": {
          "base_uri": "https://localhost:8080/",
          "height": 297
        },
        "id": "VCW93qqClLLp",
        "outputId": "dcd5d208-1e49-4dd2-9df3-cf41f8f7b359"
      },
      "source": [
        "df_whitefish.describe()"
      ],
      "execution_count": 67,
      "outputs": [
        {
          "output_type": "execute_result",
          "data": {
            "text/html": [
              "<div>\n",
              "<style scoped>\n",
              "    .dataframe tbody tr th:only-of-type {\n",
              "        vertical-align: middle;\n",
              "    }\n",
              "\n",
              "    .dataframe tbody tr th {\n",
              "        vertical-align: top;\n",
              "    }\n",
              "\n",
              "    .dataframe thead th {\n",
              "        text-align: right;\n",
              "    }\n",
              "</style>\n",
              "<table border=\"1\" class=\"dataframe\">\n",
              "  <thead>\n",
              "    <tr style=\"text-align: right;\">\n",
              "      <th></th>\n",
              "      <th>weight</th>\n",
              "      <th>vertical_length</th>\n",
              "      <th>diagonal_length</th>\n",
              "      <th>cross_length</th>\n",
              "      <th>height</th>\n",
              "      <th>width</th>\n",
              "    </tr>\n",
              "  </thead>\n",
              "  <tbody>\n",
              "    <tr>\n",
              "      <th>count</th>\n",
              "      <td>6.000000</td>\n",
              "      <td>6.000000</td>\n",
              "      <td>6.000000</td>\n",
              "      <td>6.000000</td>\n",
              "      <td>6.000000</td>\n",
              "      <td>6.000000</td>\n",
              "    </tr>\n",
              "    <tr>\n",
              "      <th>mean</th>\n",
              "      <td>531.000000</td>\n",
              "      <td>28.800000</td>\n",
              "      <td>31.316667</td>\n",
              "      <td>34.316667</td>\n",
              "      <td>10.027167</td>\n",
              "      <td>5.473050</td>\n",
              "    </tr>\n",
              "    <tr>\n",
              "      <th>std</th>\n",
              "      <td>309.602972</td>\n",
              "      <td>5.580681</td>\n",
              "      <td>5.723781</td>\n",
              "      <td>6.023759</td>\n",
              "      <td>1.830201</td>\n",
              "      <td>1.194258</td>\n",
              "    </tr>\n",
              "    <tr>\n",
              "      <th>min</th>\n",
              "      <td>270.000000</td>\n",
              "      <td>23.600000</td>\n",
              "      <td>26.000000</td>\n",
              "      <td>28.700000</td>\n",
              "      <td>8.145400</td>\n",
              "      <td>4.247600</td>\n",
              "    </tr>\n",
              "    <tr>\n",
              "      <th>25%</th>\n",
              "      <td>279.000000</td>\n",
              "      <td>24.475000</td>\n",
              "      <td>26.875000</td>\n",
              "      <td>29.675000</td>\n",
              "      <td>8.479800</td>\n",
              "      <td>4.356775</td>\n",
              "    </tr>\n",
              "    <tr>\n",
              "      <th>50%</th>\n",
              "      <td>423.000000</td>\n",
              "      <td>27.050000</td>\n",
              "      <td>29.500000</td>\n",
              "      <td>32.400000</td>\n",
              "      <td>9.761000</td>\n",
              "      <td>5.603300</td>\n",
              "    </tr>\n",
              "    <tr>\n",
              "      <th>75%</th>\n",
              "      <td>735.000000</td>\n",
              "      <td>32.400000</td>\n",
              "      <td>35.050000</td>\n",
              "      <td>38.200000</td>\n",
              "      <td>11.506900</td>\n",
              "      <td>6.552750</td>\n",
              "    </tr>\n",
              "    <tr>\n",
              "      <th>max</th>\n",
              "      <td>1000.000000</td>\n",
              "      <td>37.300000</td>\n",
              "      <td>40.000000</td>\n",
              "      <td>43.500000</td>\n",
              "      <td>12.354000</td>\n",
              "      <td>6.573600</td>\n",
              "    </tr>\n",
              "  </tbody>\n",
              "</table>\n",
              "</div>"
            ],
            "text/plain": [
              "            weight  vertical_length  ...     height     width\n",
              "count     6.000000         6.000000  ...   6.000000  6.000000\n",
              "mean    531.000000        28.800000  ...  10.027167  5.473050\n",
              "std     309.602972         5.580681  ...   1.830201  1.194258\n",
              "min     270.000000        23.600000  ...   8.145400  4.247600\n",
              "25%     279.000000        24.475000  ...   8.479800  4.356775\n",
              "50%     423.000000        27.050000  ...   9.761000  5.603300\n",
              "75%     735.000000        32.400000  ...  11.506900  6.552750\n",
              "max    1000.000000        37.300000  ...  12.354000  6.573600\n",
              "\n",
              "[8 rows x 6 columns]"
            ]
          },
          "metadata": {},
          "execution_count": 67
        }
      ]
    },
    {
      "cell_type": "code",
      "metadata": {
        "colab": {
          "base_uri": "https://localhost:8080/",
          "height": 235
        },
        "id": "FcKXMMlKlR1q",
        "outputId": "0075582f-0d30-4e4b-9cbb-7d66e95fe1c2"
      },
      "source": [
        "corr_whitefish = df_whitefish.corr(method='pearson')\n",
        "corr_whitefish"
      ],
      "execution_count": 68,
      "outputs": [
        {
          "output_type": "execute_result",
          "data": {
            "text/html": [
              "<div>\n",
              "<style scoped>\n",
              "    .dataframe tbody tr th:only-of-type {\n",
              "        vertical-align: middle;\n",
              "    }\n",
              "\n",
              "    .dataframe tbody tr th {\n",
              "        vertical-align: top;\n",
              "    }\n",
              "\n",
              "    .dataframe thead th {\n",
              "        text-align: right;\n",
              "    }\n",
              "</style>\n",
              "<table border=\"1\" class=\"dataframe\">\n",
              "  <thead>\n",
              "    <tr style=\"text-align: right;\">\n",
              "      <th></th>\n",
              "      <th>weight</th>\n",
              "      <th>vertical_length</th>\n",
              "      <th>diagonal_length</th>\n",
              "      <th>cross_length</th>\n",
              "      <th>height</th>\n",
              "      <th>width</th>\n",
              "    </tr>\n",
              "  </thead>\n",
              "  <tbody>\n",
              "    <tr>\n",
              "      <th>weight</th>\n",
              "      <td>1.000000</td>\n",
              "      <td>0.996160</td>\n",
              "      <td>0.996344</td>\n",
              "      <td>0.996465</td>\n",
              "      <td>0.976360</td>\n",
              "      <td>0.874514</td>\n",
              "    </tr>\n",
              "    <tr>\n",
              "      <th>vertical_length</th>\n",
              "      <td>0.996160</td>\n",
              "      <td>1.000000</td>\n",
              "      <td>0.999981</td>\n",
              "      <td>0.999980</td>\n",
              "      <td>0.968587</td>\n",
              "      <td>0.860283</td>\n",
              "    </tr>\n",
              "    <tr>\n",
              "      <th>diagonal_length</th>\n",
              "      <td>0.996344</td>\n",
              "      <td>0.999981</td>\n",
              "      <td>1.000000</td>\n",
              "      <td>0.999971</td>\n",
              "      <td>0.968999</td>\n",
              "      <td>0.860854</td>\n",
              "    </tr>\n",
              "    <tr>\n",
              "      <th>cross_length</th>\n",
              "      <td>0.996465</td>\n",
              "      <td>0.999980</td>\n",
              "      <td>0.999971</td>\n",
              "      <td>1.000000</td>\n",
              "      <td>0.968463</td>\n",
              "      <td>0.860157</td>\n",
              "    </tr>\n",
              "    <tr>\n",
              "      <th>height</th>\n",
              "      <td>0.976360</td>\n",
              "      <td>0.968587</td>\n",
              "      <td>0.968999</td>\n",
              "      <td>0.968463</td>\n",
              "      <td>1.000000</td>\n",
              "      <td>0.955991</td>\n",
              "    </tr>\n",
              "    <tr>\n",
              "      <th>width</th>\n",
              "      <td>0.874514</td>\n",
              "      <td>0.860283</td>\n",
              "      <td>0.860854</td>\n",
              "      <td>0.860157</td>\n",
              "      <td>0.955991</td>\n",
              "      <td>1.000000</td>\n",
              "    </tr>\n",
              "  </tbody>\n",
              "</table>\n",
              "</div>"
            ],
            "text/plain": [
              "                   weight  vertical_length  ...    height     width\n",
              "weight           1.000000         0.996160  ...  0.976360  0.874514\n",
              "vertical_length  0.996160         1.000000  ...  0.968587  0.860283\n",
              "diagonal_length  0.996344         0.999981  ...  0.968999  0.860854\n",
              "cross_length     0.996465         0.999980  ...  0.968463  0.860157\n",
              "height           0.976360         0.968587  ...  1.000000  0.955991\n",
              "width            0.874514         0.860283  ...  0.955991  1.000000\n",
              "\n",
              "[6 rows x 6 columns]"
            ]
          },
          "metadata": {},
          "execution_count": 68
        }
      ]
    },
    {
      "cell_type": "code",
      "metadata": {
        "colab": {
          "base_uri": "https://localhost:8080/",
          "height": 356
        },
        "id": "xCUi7RAvlVim",
        "outputId": "94383ae5-9661-4026-ed49-f9a31b2b2aa8"
      },
      "source": [
        "sns.heatmap(corr_whitefish, xticklabels = corr_whitefish.columns.values, yticklabels=corr_whitefish.columns.values)"
      ],
      "execution_count": 69,
      "outputs": [
        {
          "output_type": "execute_result",
          "data": {
            "text/plain": [
              "<matplotlib.axes._subplots.AxesSubplot at 0x7efdbb693190>"
            ]
          },
          "metadata": {},
          "execution_count": 69
        },
        {
          "output_type": "display_data",
          "data": {
            "image/png": "[encoded data removed]",
            "text/plain": [
              "<Figure size 432x288 with 2 Axes>"
            ]
          },
          "metadata": {
            "needs_background": "light"
          }
        }
      ]
    },
    {
      "cell_type": "code",
      "metadata": {
        "colab": {
          "base_uri": "https://localhost:8080/",
          "height": 607
        },
        "id": "PlfgiMqWo7k1",
        "outputId": "301d7898-4766-484b-e4f7-8e6e90d7ac26"
      },
      "source": [
        "fig, axs = plt.subplots(2, 3, figsize=(15, 10))\n",
        "\n",
        "axs[0, 0].hist(df_whitefish['weight'])\n",
        "axs[0, 0].set_title('Weight')\n",
        "\n",
        "axs[0, 1].hist(df_whitefish['vertical_length'])\n",
        "axs[0, 1].set_title('Vertical Length')\n",
        "\n",
        "axs[0, 2].hist(df_whitefish['diagonal_length'])\n",
        "axs[0, 2].set_title('Diagonal Length')\n",
        "\n",
        "axs[1, 0].hist(df_whitefish['cross_length'])\n",
        "axs[1, 0].set_title('Cross Length')\n",
        "\n",
        "axs[1, 1].hist(df_whitefish['height'])\n",
        "axs[1, 1].set_title('Height')\n",
        "\n",
        "axs[1, 2].hist(df_whitefish['width'])\n",
        "axs[1, 2].set_title('Width')\n",
        "\n",
        "plt.show()"
      ],
      "execution_count": 70,
      "outputs": [
        {
          "output_type": "display_data",
          "data": {
            "image/png": "[encoded data removed]",
            "text/plain": [
              "<Figure size 1080x720 with 6 Axes>"
            ]
          },
          "metadata": {
            "needs_background": "light"
          }
        }
      ]
    }
  ]
}